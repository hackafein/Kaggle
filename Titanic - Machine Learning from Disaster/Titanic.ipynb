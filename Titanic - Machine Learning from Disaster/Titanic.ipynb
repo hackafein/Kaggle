{
 "cells": [
  {
   "cell_type": "markdown",
   "metadata": {},
   "source": [
    "#  Importing Packages"
   ]
  },
  {
   "cell_type": "code",
   "execution_count": 192,
   "metadata": {},
   "outputs": [],
   "source": [
    "\n",
    "import pandas as pd\n",
    "import numpy as np\n",
    "import matplotlib.pyplot as plt\n",
    "from sklearn import preprocessing\n",
    "from sklearn.linear_model import LogisticRegression\n",
    "from sklearn.svm import SVC\n",
    "from sklearn.neighbors import KNeighborsClassifier\n",
    "from sklearn.tree import DecisionTreeClassifier\n",
    "from sklearn.ensemble import RandomForestClassifier\n",
    "import seaborn as sns\n",
    "from sklearn.model_selection import GridSearchCV"
   ]
  },
  {
   "cell_type": "code",
   "execution_count": 193,
   "metadata": {},
   "outputs": [],
   "source": [
    "def plot_confusion_matrix(y,y_predict):\n",
    "    \"this function plots the confusion matrix\"\n",
    "    from sklearn.metrics import confusion_matrix\n",
    "\n",
    "    cm = confusion_matrix(y, y_predict)\n",
    "    ax= plt.subplot()\n",
    "    sns.heatmap(cm, annot=True, ax = ax); #annot=True to annotate cells\n",
    "    ax.set_xlabel('Predicted labels')\n",
    "    ax.set_ylabel('True labels')\n",
    "    ax.set_title('Confusion Matrix'); \n",
    "   # ax.xaxis.set_ticklabels(['did not land', 'land']); ax.yaxis.set_ticklabels(['did not land', 'landed'])"
   ]
  },
  {
   "cell_type": "markdown",
   "metadata": {},
   "source": [
    "## Data collection "
   ]
  },
  {
   "cell_type": "code",
   "execution_count": 194,
   "metadata": {},
   "outputs": [],
   "source": [
    "gender_sub=pd.read_csv(\"data/gender_submission.csv\")\n",
    "train_data=pd.read_csv(\"data/train.csv\")\n",
    "test_data=pd.read_csv(\"data/test.csv\")"
   ]
  },
  {
   "cell_type": "code",
   "execution_count": 195,
   "metadata": {},
   "outputs": [
    {
     "data": {
      "text/html": [
       "<div>\n",
       "<style scoped>\n",
       "    .dataframe tbody tr th:only-of-type {\n",
       "        vertical-align: middle;\n",
       "    }\n",
       "\n",
       "    .dataframe tbody tr th {\n",
       "        vertical-align: top;\n",
       "    }\n",
       "\n",
       "    .dataframe thead th {\n",
       "        text-align: right;\n",
       "    }\n",
       "</style>\n",
       "<table border=\"1\" class=\"dataframe\">\n",
       "  <thead>\n",
       "    <tr style=\"text-align: right;\">\n",
       "      <th></th>\n",
       "      <th>PassengerId</th>\n",
       "      <th>Survived</th>\n",
       "    </tr>\n",
       "  </thead>\n",
       "  <tbody>\n",
       "    <tr>\n",
       "      <th>0</th>\n",
       "      <td>892</td>\n",
       "      <td>0</td>\n",
       "    </tr>\n",
       "    <tr>\n",
       "      <th>1</th>\n",
       "      <td>893</td>\n",
       "      <td>1</td>\n",
       "    </tr>\n",
       "    <tr>\n",
       "      <th>2</th>\n",
       "      <td>894</td>\n",
       "      <td>0</td>\n",
       "    </tr>\n",
       "    <tr>\n",
       "      <th>3</th>\n",
       "      <td>895</td>\n",
       "      <td>0</td>\n",
       "    </tr>\n",
       "    <tr>\n",
       "      <th>4</th>\n",
       "      <td>896</td>\n",
       "      <td>1</td>\n",
       "    </tr>\n",
       "  </tbody>\n",
       "</table>\n",
       "</div>"
      ],
      "text/plain": [
       "   PassengerId  Survived\n",
       "0          892         0\n",
       "1          893         1\n",
       "2          894         0\n",
       "3          895         0\n",
       "4          896         1"
      ]
     },
     "execution_count": 195,
     "metadata": {},
     "output_type": "execute_result"
    }
   ],
   "source": [
    "gender_sub.head(5)\n"
   ]
  },
  {
   "cell_type": "code",
   "execution_count": 196,
   "metadata": {},
   "outputs": [
    {
     "data": {
      "text/html": [
       "<div>\n",
       "<style scoped>\n",
       "    .dataframe tbody tr th:only-of-type {\n",
       "        vertical-align: middle;\n",
       "    }\n",
       "\n",
       "    .dataframe tbody tr th {\n",
       "        vertical-align: top;\n",
       "    }\n",
       "\n",
       "    .dataframe thead th {\n",
       "        text-align: right;\n",
       "    }\n",
       "</style>\n",
       "<table border=\"1\" class=\"dataframe\">\n",
       "  <thead>\n",
       "    <tr style=\"text-align: right;\">\n",
       "      <th></th>\n",
       "      <th>PassengerId</th>\n",
       "      <th>Survived</th>\n",
       "      <th>Pclass</th>\n",
       "      <th>Name</th>\n",
       "      <th>Sex</th>\n",
       "      <th>Age</th>\n",
       "      <th>SibSp</th>\n",
       "      <th>Parch</th>\n",
       "      <th>Ticket</th>\n",
       "      <th>Fare</th>\n",
       "      <th>Cabin</th>\n",
       "      <th>Embarked</th>\n",
       "    </tr>\n",
       "  </thead>\n",
       "  <tbody>\n",
       "    <tr>\n",
       "      <th>0</th>\n",
       "      <td>1</td>\n",
       "      <td>0</td>\n",
       "      <td>3</td>\n",
       "      <td>Braund, Mr. Owen Harris</td>\n",
       "      <td>male</td>\n",
       "      <td>22.0</td>\n",
       "      <td>1</td>\n",
       "      <td>0</td>\n",
       "      <td>A/5 21171</td>\n",
       "      <td>7.2500</td>\n",
       "      <td>NaN</td>\n",
       "      <td>S</td>\n",
       "    </tr>\n",
       "    <tr>\n",
       "      <th>1</th>\n",
       "      <td>2</td>\n",
       "      <td>1</td>\n",
       "      <td>1</td>\n",
       "      <td>Cumings, Mrs. John Bradley (Florence Briggs Th...</td>\n",
       "      <td>female</td>\n",
       "      <td>38.0</td>\n",
       "      <td>1</td>\n",
       "      <td>0</td>\n",
       "      <td>PC 17599</td>\n",
       "      <td>71.2833</td>\n",
       "      <td>C85</td>\n",
       "      <td>C</td>\n",
       "    </tr>\n",
       "    <tr>\n",
       "      <th>2</th>\n",
       "      <td>3</td>\n",
       "      <td>1</td>\n",
       "      <td>3</td>\n",
       "      <td>Heikkinen, Miss. Laina</td>\n",
       "      <td>female</td>\n",
       "      <td>26.0</td>\n",
       "      <td>0</td>\n",
       "      <td>0</td>\n",
       "      <td>STON/O2. 3101282</td>\n",
       "      <td>7.9250</td>\n",
       "      <td>NaN</td>\n",
       "      <td>S</td>\n",
       "    </tr>\n",
       "    <tr>\n",
       "      <th>3</th>\n",
       "      <td>4</td>\n",
       "      <td>1</td>\n",
       "      <td>1</td>\n",
       "      <td>Futrelle, Mrs. Jacques Heath (Lily May Peel)</td>\n",
       "      <td>female</td>\n",
       "      <td>35.0</td>\n",
       "      <td>1</td>\n",
       "      <td>0</td>\n",
       "      <td>113803</td>\n",
       "      <td>53.1000</td>\n",
       "      <td>C123</td>\n",
       "      <td>S</td>\n",
       "    </tr>\n",
       "    <tr>\n",
       "      <th>4</th>\n",
       "      <td>5</td>\n",
       "      <td>0</td>\n",
       "      <td>3</td>\n",
       "      <td>Allen, Mr. William Henry</td>\n",
       "      <td>male</td>\n",
       "      <td>35.0</td>\n",
       "      <td>0</td>\n",
       "      <td>0</td>\n",
       "      <td>373450</td>\n",
       "      <td>8.0500</td>\n",
       "      <td>NaN</td>\n",
       "      <td>S</td>\n",
       "    </tr>\n",
       "    <tr>\n",
       "      <th>5</th>\n",
       "      <td>6</td>\n",
       "      <td>0</td>\n",
       "      <td>3</td>\n",
       "      <td>Moran, Mr. James</td>\n",
       "      <td>male</td>\n",
       "      <td>NaN</td>\n",
       "      <td>0</td>\n",
       "      <td>0</td>\n",
       "      <td>330877</td>\n",
       "      <td>8.4583</td>\n",
       "      <td>NaN</td>\n",
       "      <td>Q</td>\n",
       "    </tr>\n",
       "    <tr>\n",
       "      <th>6</th>\n",
       "      <td>7</td>\n",
       "      <td>0</td>\n",
       "      <td>1</td>\n",
       "      <td>McCarthy, Mr. Timothy J</td>\n",
       "      <td>male</td>\n",
       "      <td>54.0</td>\n",
       "      <td>0</td>\n",
       "      <td>0</td>\n",
       "      <td>17463</td>\n",
       "      <td>51.8625</td>\n",
       "      <td>E46</td>\n",
       "      <td>S</td>\n",
       "    </tr>\n",
       "    <tr>\n",
       "      <th>7</th>\n",
       "      <td>8</td>\n",
       "      <td>0</td>\n",
       "      <td>3</td>\n",
       "      <td>Palsson, Master. Gosta Leonard</td>\n",
       "      <td>male</td>\n",
       "      <td>2.0</td>\n",
       "      <td>3</td>\n",
       "      <td>1</td>\n",
       "      <td>349909</td>\n",
       "      <td>21.0750</td>\n",
       "      <td>NaN</td>\n",
       "      <td>S</td>\n",
       "    </tr>\n",
       "  </tbody>\n",
       "</table>\n",
       "</div>"
      ],
      "text/plain": [
       "   PassengerId  Survived  Pclass  \\\n",
       "0            1         0       3   \n",
       "1            2         1       1   \n",
       "2            3         1       3   \n",
       "3            4         1       1   \n",
       "4            5         0       3   \n",
       "5            6         0       3   \n",
       "6            7         0       1   \n",
       "7            8         0       3   \n",
       "\n",
       "                                                Name     Sex   Age  SibSp  \\\n",
       "0                            Braund, Mr. Owen Harris    male  22.0      1   \n",
       "1  Cumings, Mrs. John Bradley (Florence Briggs Th...  female  38.0      1   \n",
       "2                             Heikkinen, Miss. Laina  female  26.0      0   \n",
       "3       Futrelle, Mrs. Jacques Heath (Lily May Peel)  female  35.0      1   \n",
       "4                           Allen, Mr. William Henry    male  35.0      0   \n",
       "5                                   Moran, Mr. James    male   NaN      0   \n",
       "6                            McCarthy, Mr. Timothy J    male  54.0      0   \n",
       "7                     Palsson, Master. Gosta Leonard    male   2.0      3   \n",
       "\n",
       "   Parch            Ticket     Fare Cabin Embarked  \n",
       "0      0         A/5 21171   7.2500   NaN        S  \n",
       "1      0          PC 17599  71.2833   C85        C  \n",
       "2      0  STON/O2. 3101282   7.9250   NaN        S  \n",
       "3      0            113803  53.1000  C123        S  \n",
       "4      0            373450   8.0500   NaN        S  \n",
       "5      0            330877   8.4583   NaN        Q  \n",
       "6      0             17463  51.8625   E46        S  \n",
       "7      1            349909  21.0750   NaN        S  "
      ]
     },
     "execution_count": 196,
     "metadata": {},
     "output_type": "execute_result"
    }
   ],
   "source": [
    "train_data.head(8)"
   ]
  },
  {
   "cell_type": "markdown",
   "metadata": {},
   "source": [
    "# Data Cleaning"
   ]
  },
  {
   "cell_type": "code",
   "execution_count": 197,
   "metadata": {},
   "outputs": [
    {
     "data": {
      "text/html": [
       "<div>\n",
       "<style scoped>\n",
       "    .dataframe tbody tr th:only-of-type {\n",
       "        vertical-align: middle;\n",
       "    }\n",
       "\n",
       "    .dataframe tbody tr th {\n",
       "        vertical-align: top;\n",
       "    }\n",
       "\n",
       "    .dataframe thead th {\n",
       "        text-align: right;\n",
       "    }\n",
       "</style>\n",
       "<table border=\"1\" class=\"dataframe\">\n",
       "  <thead>\n",
       "    <tr style=\"text-align: right;\">\n",
       "      <th></th>\n",
       "      <th>PassengerId</th>\n",
       "      <th>Pclass</th>\n",
       "      <th>Name</th>\n",
       "      <th>Sex</th>\n",
       "      <th>Age</th>\n",
       "      <th>SibSp</th>\n",
       "      <th>Parch</th>\n",
       "      <th>Ticket</th>\n",
       "      <th>Fare</th>\n",
       "      <th>Cabin</th>\n",
       "      <th>Embarked</th>\n",
       "    </tr>\n",
       "  </thead>\n",
       "  <tbody>\n",
       "    <tr>\n",
       "      <th>0</th>\n",
       "      <td>892</td>\n",
       "      <td>3</td>\n",
       "      <td>Kelly, Mr. James</td>\n",
       "      <td>male</td>\n",
       "      <td>34.5</td>\n",
       "      <td>0</td>\n",
       "      <td>0</td>\n",
       "      <td>330911</td>\n",
       "      <td>7.8292</td>\n",
       "      <td>NaN</td>\n",
       "      <td>Q</td>\n",
       "    </tr>\n",
       "    <tr>\n",
       "      <th>1</th>\n",
       "      <td>893</td>\n",
       "      <td>3</td>\n",
       "      <td>Wilkes, Mrs. James (Ellen Needs)</td>\n",
       "      <td>female</td>\n",
       "      <td>47.0</td>\n",
       "      <td>1</td>\n",
       "      <td>0</td>\n",
       "      <td>363272</td>\n",
       "      <td>7.0000</td>\n",
       "      <td>NaN</td>\n",
       "      <td>S</td>\n",
       "    </tr>\n",
       "    <tr>\n",
       "      <th>2</th>\n",
       "      <td>894</td>\n",
       "      <td>2</td>\n",
       "      <td>Myles, Mr. Thomas Francis</td>\n",
       "      <td>male</td>\n",
       "      <td>62.0</td>\n",
       "      <td>0</td>\n",
       "      <td>0</td>\n",
       "      <td>240276</td>\n",
       "      <td>9.6875</td>\n",
       "      <td>NaN</td>\n",
       "      <td>Q</td>\n",
       "    </tr>\n",
       "    <tr>\n",
       "      <th>3</th>\n",
       "      <td>895</td>\n",
       "      <td>3</td>\n",
       "      <td>Wirz, Mr. Albert</td>\n",
       "      <td>male</td>\n",
       "      <td>27.0</td>\n",
       "      <td>0</td>\n",
       "      <td>0</td>\n",
       "      <td>315154</td>\n",
       "      <td>8.6625</td>\n",
       "      <td>NaN</td>\n",
       "      <td>S</td>\n",
       "    </tr>\n",
       "    <tr>\n",
       "      <th>4</th>\n",
       "      <td>896</td>\n",
       "      <td>3</td>\n",
       "      <td>Hirvonen, Mrs. Alexander (Helga E Lindqvist)</td>\n",
       "      <td>female</td>\n",
       "      <td>22.0</td>\n",
       "      <td>1</td>\n",
       "      <td>1</td>\n",
       "      <td>3101298</td>\n",
       "      <td>12.2875</td>\n",
       "      <td>NaN</td>\n",
       "      <td>S</td>\n",
       "    </tr>\n",
       "    <tr>\n",
       "      <th>5</th>\n",
       "      <td>897</td>\n",
       "      <td>3</td>\n",
       "      <td>Svensson, Mr. Johan Cervin</td>\n",
       "      <td>male</td>\n",
       "      <td>14.0</td>\n",
       "      <td>0</td>\n",
       "      <td>0</td>\n",
       "      <td>7538</td>\n",
       "      <td>9.2250</td>\n",
       "      <td>NaN</td>\n",
       "      <td>S</td>\n",
       "    </tr>\n",
       "    <tr>\n",
       "      <th>6</th>\n",
       "      <td>898</td>\n",
       "      <td>3</td>\n",
       "      <td>Connolly, Miss. Kate</td>\n",
       "      <td>female</td>\n",
       "      <td>30.0</td>\n",
       "      <td>0</td>\n",
       "      <td>0</td>\n",
       "      <td>330972</td>\n",
       "      <td>7.6292</td>\n",
       "      <td>NaN</td>\n",
       "      <td>Q</td>\n",
       "    </tr>\n",
       "    <tr>\n",
       "      <th>7</th>\n",
       "      <td>899</td>\n",
       "      <td>2</td>\n",
       "      <td>Caldwell, Mr. Albert Francis</td>\n",
       "      <td>male</td>\n",
       "      <td>26.0</td>\n",
       "      <td>1</td>\n",
       "      <td>1</td>\n",
       "      <td>248738</td>\n",
       "      <td>29.0000</td>\n",
       "      <td>NaN</td>\n",
       "      <td>S</td>\n",
       "    </tr>\n",
       "    <tr>\n",
       "      <th>8</th>\n",
       "      <td>900</td>\n",
       "      <td>3</td>\n",
       "      <td>Abrahim, Mrs. Joseph (Sophie Halaut Easu)</td>\n",
       "      <td>female</td>\n",
       "      <td>18.0</td>\n",
       "      <td>0</td>\n",
       "      <td>0</td>\n",
       "      <td>2657</td>\n",
       "      <td>7.2292</td>\n",
       "      <td>NaN</td>\n",
       "      <td>C</td>\n",
       "    </tr>\n",
       "    <tr>\n",
       "      <th>9</th>\n",
       "      <td>901</td>\n",
       "      <td>3</td>\n",
       "      <td>Davies, Mr. John Samuel</td>\n",
       "      <td>male</td>\n",
       "      <td>21.0</td>\n",
       "      <td>2</td>\n",
       "      <td>0</td>\n",
       "      <td>A/4 48871</td>\n",
       "      <td>24.1500</td>\n",
       "      <td>NaN</td>\n",
       "      <td>S</td>\n",
       "    </tr>\n",
       "    <tr>\n",
       "      <th>10</th>\n",
       "      <td>902</td>\n",
       "      <td>3</td>\n",
       "      <td>Ilieff, Mr. Ylio</td>\n",
       "      <td>male</td>\n",
       "      <td>NaN</td>\n",
       "      <td>0</td>\n",
       "      <td>0</td>\n",
       "      <td>349220</td>\n",
       "      <td>7.8958</td>\n",
       "      <td>NaN</td>\n",
       "      <td>S</td>\n",
       "    </tr>\n",
       "    <tr>\n",
       "      <th>11</th>\n",
       "      <td>903</td>\n",
       "      <td>1</td>\n",
       "      <td>Jones, Mr. Charles Cresson</td>\n",
       "      <td>male</td>\n",
       "      <td>46.0</td>\n",
       "      <td>0</td>\n",
       "      <td>0</td>\n",
       "      <td>694</td>\n",
       "      <td>26.0000</td>\n",
       "      <td>NaN</td>\n",
       "      <td>S</td>\n",
       "    </tr>\n",
       "    <tr>\n",
       "      <th>12</th>\n",
       "      <td>904</td>\n",
       "      <td>1</td>\n",
       "      <td>Snyder, Mrs. John Pillsbury (Nelle Stevenson)</td>\n",
       "      <td>female</td>\n",
       "      <td>23.0</td>\n",
       "      <td>1</td>\n",
       "      <td>0</td>\n",
       "      <td>21228</td>\n",
       "      <td>82.2667</td>\n",
       "      <td>B45</td>\n",
       "      <td>S</td>\n",
       "    </tr>\n",
       "    <tr>\n",
       "      <th>13</th>\n",
       "      <td>905</td>\n",
       "      <td>2</td>\n",
       "      <td>Howard, Mr. Benjamin</td>\n",
       "      <td>male</td>\n",
       "      <td>63.0</td>\n",
       "      <td>1</td>\n",
       "      <td>0</td>\n",
       "      <td>24065</td>\n",
       "      <td>26.0000</td>\n",
       "      <td>NaN</td>\n",
       "      <td>S</td>\n",
       "    </tr>\n",
       "    <tr>\n",
       "      <th>14</th>\n",
       "      <td>906</td>\n",
       "      <td>1</td>\n",
       "      <td>Chaffee, Mrs. Herbert Fuller (Carrie Constance...</td>\n",
       "      <td>female</td>\n",
       "      <td>47.0</td>\n",
       "      <td>1</td>\n",
       "      <td>0</td>\n",
       "      <td>W.E.P. 5734</td>\n",
       "      <td>61.1750</td>\n",
       "      <td>E31</td>\n",
       "      <td>S</td>\n",
       "    </tr>\n",
       "    <tr>\n",
       "      <th>15</th>\n",
       "      <td>907</td>\n",
       "      <td>2</td>\n",
       "      <td>del Carlo, Mrs. Sebastiano (Argenia Genovesi)</td>\n",
       "      <td>female</td>\n",
       "      <td>24.0</td>\n",
       "      <td>1</td>\n",
       "      <td>0</td>\n",
       "      <td>SC/PARIS 2167</td>\n",
       "      <td>27.7208</td>\n",
       "      <td>NaN</td>\n",
       "      <td>C</td>\n",
       "    </tr>\n",
       "    <tr>\n",
       "      <th>16</th>\n",
       "      <td>908</td>\n",
       "      <td>2</td>\n",
       "      <td>Keane, Mr. Daniel</td>\n",
       "      <td>male</td>\n",
       "      <td>35.0</td>\n",
       "      <td>0</td>\n",
       "      <td>0</td>\n",
       "      <td>233734</td>\n",
       "      <td>12.3500</td>\n",
       "      <td>NaN</td>\n",
       "      <td>Q</td>\n",
       "    </tr>\n",
       "    <tr>\n",
       "      <th>17</th>\n",
       "      <td>909</td>\n",
       "      <td>3</td>\n",
       "      <td>Assaf, Mr. Gerios</td>\n",
       "      <td>male</td>\n",
       "      <td>21.0</td>\n",
       "      <td>0</td>\n",
       "      <td>0</td>\n",
       "      <td>2692</td>\n",
       "      <td>7.2250</td>\n",
       "      <td>NaN</td>\n",
       "      <td>C</td>\n",
       "    </tr>\n",
       "    <tr>\n",
       "      <th>18</th>\n",
       "      <td>910</td>\n",
       "      <td>3</td>\n",
       "      <td>Ilmakangas, Miss. Ida Livija</td>\n",
       "      <td>female</td>\n",
       "      <td>27.0</td>\n",
       "      <td>1</td>\n",
       "      <td>0</td>\n",
       "      <td>STON/O2. 3101270</td>\n",
       "      <td>7.9250</td>\n",
       "      <td>NaN</td>\n",
       "      <td>S</td>\n",
       "    </tr>\n",
       "    <tr>\n",
       "      <th>19</th>\n",
       "      <td>911</td>\n",
       "      <td>3</td>\n",
       "      <td>Assaf Khalil, Mrs. Mariana (Miriam\")\"</td>\n",
       "      <td>female</td>\n",
       "      <td>45.0</td>\n",
       "      <td>0</td>\n",
       "      <td>0</td>\n",
       "      <td>2696</td>\n",
       "      <td>7.2250</td>\n",
       "      <td>NaN</td>\n",
       "      <td>C</td>\n",
       "    </tr>\n",
       "  </tbody>\n",
       "</table>\n",
       "</div>"
      ],
      "text/plain": [
       "    PassengerId  Pclass                                               Name  \\\n",
       "0           892       3                                   Kelly, Mr. James   \n",
       "1           893       3                   Wilkes, Mrs. James (Ellen Needs)   \n",
       "2           894       2                          Myles, Mr. Thomas Francis   \n",
       "3           895       3                                   Wirz, Mr. Albert   \n",
       "4           896       3       Hirvonen, Mrs. Alexander (Helga E Lindqvist)   \n",
       "5           897       3                         Svensson, Mr. Johan Cervin   \n",
       "6           898       3                               Connolly, Miss. Kate   \n",
       "7           899       2                       Caldwell, Mr. Albert Francis   \n",
       "8           900       3          Abrahim, Mrs. Joseph (Sophie Halaut Easu)   \n",
       "9           901       3                            Davies, Mr. John Samuel   \n",
       "10          902       3                                   Ilieff, Mr. Ylio   \n",
       "11          903       1                         Jones, Mr. Charles Cresson   \n",
       "12          904       1      Snyder, Mrs. John Pillsbury (Nelle Stevenson)   \n",
       "13          905       2                               Howard, Mr. Benjamin   \n",
       "14          906       1  Chaffee, Mrs. Herbert Fuller (Carrie Constance...   \n",
       "15          907       2      del Carlo, Mrs. Sebastiano (Argenia Genovesi)   \n",
       "16          908       2                                  Keane, Mr. Daniel   \n",
       "17          909       3                                  Assaf, Mr. Gerios   \n",
       "18          910       3                       Ilmakangas, Miss. Ida Livija   \n",
       "19          911       3              Assaf Khalil, Mrs. Mariana (Miriam\")\"   \n",
       "\n",
       "       Sex   Age  SibSp  Parch            Ticket     Fare Cabin Embarked  \n",
       "0     male  34.5      0      0            330911   7.8292   NaN        Q  \n",
       "1   female  47.0      1      0            363272   7.0000   NaN        S  \n",
       "2     male  62.0      0      0            240276   9.6875   NaN        Q  \n",
       "3     male  27.0      0      0            315154   8.6625   NaN        S  \n",
       "4   female  22.0      1      1           3101298  12.2875   NaN        S  \n",
       "5     male  14.0      0      0              7538   9.2250   NaN        S  \n",
       "6   female  30.0      0      0            330972   7.6292   NaN        Q  \n",
       "7     male  26.0      1      1            248738  29.0000   NaN        S  \n",
       "8   female  18.0      0      0              2657   7.2292   NaN        C  \n",
       "9     male  21.0      2      0         A/4 48871  24.1500   NaN        S  \n",
       "10    male   NaN      0      0            349220   7.8958   NaN        S  \n",
       "11    male  46.0      0      0               694  26.0000   NaN        S  \n",
       "12  female  23.0      1      0             21228  82.2667   B45        S  \n",
       "13    male  63.0      1      0             24065  26.0000   NaN        S  \n",
       "14  female  47.0      1      0       W.E.P. 5734  61.1750   E31        S  \n",
       "15  female  24.0      1      0     SC/PARIS 2167  27.7208   NaN        C  \n",
       "16    male  35.0      0      0            233734  12.3500   NaN        Q  \n",
       "17    male  21.0      0      0              2692   7.2250   NaN        C  \n",
       "18  female  27.0      1      0  STON/O2. 3101270   7.9250   NaN        S  \n",
       "19  female  45.0      0      0              2696   7.2250   NaN        C  "
      ]
     },
     "execution_count": 197,
     "metadata": {},
     "output_type": "execute_result"
    }
   ],
   "source": [
    "test_data.head(20)"
   ]
  },
  {
   "cell_type": "code",
   "execution_count": 198,
   "metadata": {},
   "outputs": [
    {
     "data": {
      "text/html": [
       "<div>\n",
       "<style scoped>\n",
       "    .dataframe tbody tr th:only-of-type {\n",
       "        vertical-align: middle;\n",
       "    }\n",
       "\n",
       "    .dataframe tbody tr th {\n",
       "        vertical-align: top;\n",
       "    }\n",
       "\n",
       "    .dataframe thead th {\n",
       "        text-align: right;\n",
       "    }\n",
       "</style>\n",
       "<table border=\"1\" class=\"dataframe\">\n",
       "  <thead>\n",
       "    <tr style=\"text-align: right;\">\n",
       "      <th></th>\n",
       "      <th>PassengerId</th>\n",
       "      <th>Survived</th>\n",
       "      <th>Pclass</th>\n",
       "      <th>Age</th>\n",
       "      <th>SibSp</th>\n",
       "      <th>Parch</th>\n",
       "      <th>Fare</th>\n",
       "    </tr>\n",
       "  </thead>\n",
       "  <tbody>\n",
       "    <tr>\n",
       "      <th>count</th>\n",
       "      <td>891.000000</td>\n",
       "      <td>891.000000</td>\n",
       "      <td>891.000000</td>\n",
       "      <td>714.000000</td>\n",
       "      <td>891.000000</td>\n",
       "      <td>891.000000</td>\n",
       "      <td>891.000000</td>\n",
       "    </tr>\n",
       "    <tr>\n",
       "      <th>mean</th>\n",
       "      <td>446.000000</td>\n",
       "      <td>0.383838</td>\n",
       "      <td>2.308642</td>\n",
       "      <td>29.699118</td>\n",
       "      <td>0.523008</td>\n",
       "      <td>0.381594</td>\n",
       "      <td>32.204208</td>\n",
       "    </tr>\n",
       "    <tr>\n",
       "      <th>std</th>\n",
       "      <td>257.353842</td>\n",
       "      <td>0.486592</td>\n",
       "      <td>0.836071</td>\n",
       "      <td>14.526497</td>\n",
       "      <td>1.102743</td>\n",
       "      <td>0.806057</td>\n",
       "      <td>49.693429</td>\n",
       "    </tr>\n",
       "    <tr>\n",
       "      <th>min</th>\n",
       "      <td>1.000000</td>\n",
       "      <td>0.000000</td>\n",
       "      <td>1.000000</td>\n",
       "      <td>0.420000</td>\n",
       "      <td>0.000000</td>\n",
       "      <td>0.000000</td>\n",
       "      <td>0.000000</td>\n",
       "    </tr>\n",
       "    <tr>\n",
       "      <th>25%</th>\n",
       "      <td>223.500000</td>\n",
       "      <td>0.000000</td>\n",
       "      <td>2.000000</td>\n",
       "      <td>20.125000</td>\n",
       "      <td>0.000000</td>\n",
       "      <td>0.000000</td>\n",
       "      <td>7.910400</td>\n",
       "    </tr>\n",
       "    <tr>\n",
       "      <th>50%</th>\n",
       "      <td>446.000000</td>\n",
       "      <td>0.000000</td>\n",
       "      <td>3.000000</td>\n",
       "      <td>28.000000</td>\n",
       "      <td>0.000000</td>\n",
       "      <td>0.000000</td>\n",
       "      <td>14.454200</td>\n",
       "    </tr>\n",
       "    <tr>\n",
       "      <th>75%</th>\n",
       "      <td>668.500000</td>\n",
       "      <td>1.000000</td>\n",
       "      <td>3.000000</td>\n",
       "      <td>38.000000</td>\n",
       "      <td>1.000000</td>\n",
       "      <td>0.000000</td>\n",
       "      <td>31.000000</td>\n",
       "    </tr>\n",
       "    <tr>\n",
       "      <th>max</th>\n",
       "      <td>891.000000</td>\n",
       "      <td>1.000000</td>\n",
       "      <td>3.000000</td>\n",
       "      <td>80.000000</td>\n",
       "      <td>8.000000</td>\n",
       "      <td>6.000000</td>\n",
       "      <td>512.329200</td>\n",
       "    </tr>\n",
       "  </tbody>\n",
       "</table>\n",
       "</div>"
      ],
      "text/plain": [
       "       PassengerId    Survived      Pclass         Age       SibSp  \\\n",
       "count   891.000000  891.000000  891.000000  714.000000  891.000000   \n",
       "mean    446.000000    0.383838    2.308642   29.699118    0.523008   \n",
       "std     257.353842    0.486592    0.836071   14.526497    1.102743   \n",
       "min       1.000000    0.000000    1.000000    0.420000    0.000000   \n",
       "25%     223.500000    0.000000    2.000000   20.125000    0.000000   \n",
       "50%     446.000000    0.000000    3.000000   28.000000    0.000000   \n",
       "75%     668.500000    1.000000    3.000000   38.000000    1.000000   \n",
       "max     891.000000    1.000000    3.000000   80.000000    8.000000   \n",
       "\n",
       "            Parch        Fare  \n",
       "count  891.000000  891.000000  \n",
       "mean     0.381594   32.204208  \n",
       "std      0.806057   49.693429  \n",
       "min      0.000000    0.000000  \n",
       "25%      0.000000    7.910400  \n",
       "50%      0.000000   14.454200  \n",
       "75%      0.000000   31.000000  \n",
       "max      6.000000  512.329200  "
      ]
     },
     "execution_count": 198,
     "metadata": {},
     "output_type": "execute_result"
    }
   ],
   "source": [
    "train_data.describe()"
   ]
  },
  {
   "cell_type": "code",
   "execution_count": 199,
   "metadata": {},
   "outputs": [
    {
     "data": {
      "image/png": "[encoded data removed]",
      "text/plain": [
       "<Figure size 432x288 with 1 Axes>"
      ]
     },
     "metadata": {
      "needs_background": "light"
     },
     "output_type": "display_data"
    },
    {
     "data": {
      "image/png": "[encoded data removed]",
      "text/plain": [
       "<Figure size 432x288 with 1 Axes>"
      ]
     },
     "metadata": {
      "needs_background": "light"
     },
     "output_type": "display_data"
    }
   ],
   "source": [
    "#Distribution graph\n",
    "arr_denisty=['Age','Fare']\n",
    "for i in arr_denisty:\n",
    "    sns.distplot(train_data[i])\n",
    "    plt.title(f'distribution of {i}')\n",
    "    plt.show()"
   ]
  },
  {
   "cell_type": "code",
   "execution_count": 200,
   "metadata": {},
   "outputs": [
    {
     "data": {
      "text/plain": [
       "Mr          517\n",
       "Miss        182\n",
       "Mrs         125\n",
       "Master       40\n",
       "Dr            7\n",
       "Rev           6\n",
       "Mlle          2\n",
       "Col           2\n",
       "Major         2\n",
       "Capt          1\n",
       "Jonkheer      1\n",
       "Sir           1\n",
       "Countess      1\n",
       "Mme           1\n",
       "Don           1\n",
       "Lady          1\n",
       "Ms            1\n",
       "Name: Title, dtype: int64"
      ]
     },
     "execution_count": 200,
     "metadata": {},
     "output_type": "execute_result"
    }
   ],
   "source": [
    "combine=[train_data,test_data]\n",
    "for dataset in combine:\n",
    "    dataset['Title']=dataset.Name.str.extract(' ([A-Za-z]+)\\.',expand=False)\n",
    "train_data.Title.value_counts()"
   ]
  },
  {
   "cell_type": "code",
   "execution_count": 201,
   "metadata": {},
   "outputs": [
    {
     "data": {
      "text/plain": [
       "Mr        517\n",
       "Miss      185\n",
       "Mrs       126\n",
       "Master     40\n",
       "Rare       10\n",
       "Dr          7\n",
       "Rev         6\n",
       "Name: Title, dtype: int64"
      ]
     },
     "execution_count": 201,
     "metadata": {},
     "output_type": "execute_result"
    }
   ],
   "source": [
    "train_data.replace(['Ms','Mlle'],'Miss',inplace=True)\n",
    "train_data.replace(['Mme'],'Mrs',inplace=True)\n",
    "test_data.replace(['Ms','Mlle'],'Miss',inplace=True)\n",
    "test_data.replace(['Mme'],'Mrs',inplace=True)\n",
    "train_data.replace(['Jonkheer','Countess','Capt','Sir','Lady','Don','Col','Major'],'Rare',inplace=True)\n",
    "test_data.replace(['Jonkheer','Countess','Capt','Sir','Lady','Don','Col','Major'],'Rare',inplace=True)\n",
    "train_data.Title.value_counts()"
   ]
  },
  {
   "cell_type": "code",
   "execution_count": 202,
   "metadata": {},
   "outputs": [],
   "source": [
    "object=train_data.select_dtypes(include='object')\n",
    "\n",
    "from sklearn.preprocessing import LabelEncoder\n",
    "le=LabelEncoder()\n",
    "\n",
    "train_data[\"Title\"]=le.fit_transform(train_data[\"Title\"])\n",
    "test_data[\"Title\"]=le.fit_transform(test_data[\"Title\"])    \n"
   ]
  },
  {
   "cell_type": "code",
   "execution_count": 203,
   "metadata": {},
   "outputs": [
    {
     "data": {
      "text/plain": [
       "PassengerId      0.000000\n",
       "Survived         0.000000\n",
       "Pclass           0.000000\n",
       "Name             0.000000\n",
       "Sex              0.000000\n",
       "Age             24.789916\n",
       "SibSp            0.000000\n",
       "Parch            0.000000\n",
       "Ticket           0.000000\n",
       "Fare             0.000000\n",
       "Cabin          336.764706\n",
       "Embarked         0.224972\n",
       "Title            0.000000\n",
       "dtype: float64"
      ]
     },
     "execution_count": 203,
     "metadata": {},
     "output_type": "execute_result"
    }
   ],
   "source": [
    "# Controlling Missing values in dataset\n",
    "train_data.isnull().sum()/train_data.count()*100"
   ]
  },
  {
   "cell_type": "code",
   "execution_count": 204,
   "metadata": {},
   "outputs": [
    {
     "data": {
      "text/plain": [
       "PassengerId      int64\n",
       "Survived         int64\n",
       "Pclass           int64\n",
       "Name            object\n",
       "Sex             object\n",
       "Age            float64\n",
       "SibSp            int64\n",
       "Parch            int64\n",
       "Ticket          object\n",
       "Fare           float64\n",
       "Cabin           object\n",
       "Embarked        object\n",
       "Title            int64\n",
       "dtype: object"
      ]
     },
     "execution_count": 204,
     "metadata": {},
     "output_type": "execute_result"
    }
   ],
   "source": [
    "#Identify which columns are numerical and categorical:\n",
    "train_data.dtypes"
   ]
  },
  {
   "cell_type": "markdown",
   "metadata": {},
   "source": [
    "## Dealing with the Nan values"
   ]
  },
  {
   "cell_type": "code",
   "execution_count": 205,
   "metadata": {},
   "outputs": [],
   "source": [
    "# calculating the mean of age column\n",
    "age_mean=train_data[\"Age\"].astype(\"float\").mean(axis=0) # getting the age values mean\n",
    "train_data.replace(np.nan,age_mean,inplace=True)\n",
    "# same process for fare\n",
    "fare_mean=train_data[\"Fare\"].astype(\"float\").mean(axis=0)\n",
    "train_data.replace(np.nan,fare_mean,inplace=True)\n",
    "\n",
    "# SAME PROCESS FOR TEST SET\n",
    "# calculating the mean of age column\n",
    "age_mean=test_data[\"Age\"].astype(\"float\").mean(axis=0) # getting the age values mean\n",
    "test_data.replace(np.nan,age_mean,inplace=True)\n",
    "# same process for fare\n",
    "fare_mean=test_data[\"Fare\"].astype(\"float\").mean(axis=0)\n",
    "test_data.replace(np.nan,fare_mean,inplace=True)"
   ]
  },
  {
   "cell_type": "code",
   "execution_count": 206,
   "metadata": {},
   "outputs": [
    {
     "data": {
      "text/plain": [
       "array([0, 1, 1, 1, 0, 0, 0, 0, 1, 1, 1, 1, 0, 0, 0, 1, 0, 1, 0, 1, 0, 1,\n",
       "       1, 1, 0, 1, 0, 0, 1, 0, 0, 1, 1, 0, 0, 0, 1, 0, 0, 1, 0, 0, 0, 1,\n",
       "       1, 0, 0, 1, 0, 0, 0, 0, 1, 1, 0, 1, 1, 0, 1, 0, 0, 1, 0, 0, 0, 1,\n",
       "       1, 0, 1, 0, 0, 0, 0, 0, 1, 0, 0, 0, 1, 1, 0, 1, 1, 0, 1, 1, 0, 0,\n",
       "       1, 0, 0, 0, 0, 0, 0, 0, 0, 1, 1, 0])"
      ]
     },
     "execution_count": 206,
     "metadata": {},
     "output_type": "execute_result"
    }
   ],
   "source": [
    "y=train_data[\"Survived\"].to_numpy()\n",
    "\n",
    "y[0:100]\n",
    "\n"
   ]
  },
  {
   "cell_type": "code",
   "execution_count": 207,
   "metadata": {},
   "outputs": [
    {
     "data": {
      "text/plain": [
       "0    0\n",
       "1    1\n",
       "2    1\n",
       "3    1\n",
       "4    0\n",
       "Name: Sex, dtype: int64"
      ]
     },
     "execution_count": 207,
     "metadata": {},
     "output_type": "execute_result"
    }
   ],
   "source": [
    "train_data[\"Sex\"].replace(\"male\",0,inplace=True)\n",
    "train_data[\"Sex\"].replace(\"female\",1,inplace=True)\n",
    "test_data[\"Sex\"].replace(\"male\",0,inplace=True)\n",
    "test_data[\"Sex\"].replace(\"female\",1,inplace=True)\n",
    "train_data[\"Sex\"].head()"
   ]
  },
  {
   "cell_type": "code",
   "execution_count": 208,
   "metadata": {},
   "outputs": [],
   "source": [
    "train_data[\"Embarked\"].replace(\"S\",0,inplace=True)\n",
    "train_data[\"Embarked\"].replace(\"C\",1,inplace=True)\n",
    "train_data[\"Embarked\"].replace(\"Q\",2,inplace=True)\n",
    "train_data[\"Embarked\"]\n",
    "\n",
    "test_data[\"Embarked\"].replace(\"S\",0,inplace=True)\n",
    "test_data[\"Embarked\"].replace(\"C\",1,inplace=True)\n",
    "test_data[\"Embarked\"].replace(\"Q\",2,inplace=True)\n"
   ]
  },
  {
   "cell_type": "code",
   "execution_count": 209,
   "metadata": {},
   "outputs": [
    {
     "data": {
      "text/html": [
       "<div>\n",
       "<style scoped>\n",
       "    .dataframe tbody tr th:only-of-type {\n",
       "        vertical-align: middle;\n",
       "    }\n",
       "\n",
       "    .dataframe tbody tr th {\n",
       "        vertical-align: top;\n",
       "    }\n",
       "\n",
       "    .dataframe thead th {\n",
       "        text-align: right;\n",
       "    }\n",
       "</style>\n",
       "<table border=\"1\" class=\"dataframe\">\n",
       "  <thead>\n",
       "    <tr style=\"text-align: right;\">\n",
       "      <th></th>\n",
       "      <th>PassengerId</th>\n",
       "      <th>Pclass</th>\n",
       "      <th>Sex</th>\n",
       "      <th>Age</th>\n",
       "      <th>SibSp</th>\n",
       "      <th>Parch</th>\n",
       "      <th>Fare</th>\n",
       "      <th>Embarked</th>\n",
       "      <th>Title</th>\n",
       "    </tr>\n",
       "  </thead>\n",
       "  <tbody>\n",
       "    <tr>\n",
       "      <th>0</th>\n",
       "      <td>1</td>\n",
       "      <td>3</td>\n",
       "      <td>0</td>\n",
       "      <td>22.000000</td>\n",
       "      <td>1</td>\n",
       "      <td>0</td>\n",
       "      <td>7.2500</td>\n",
       "      <td>0.0</td>\n",
       "      <td>3</td>\n",
       "    </tr>\n",
       "    <tr>\n",
       "      <th>1</th>\n",
       "      <td>2</td>\n",
       "      <td>1</td>\n",
       "      <td>1</td>\n",
       "      <td>38.000000</td>\n",
       "      <td>1</td>\n",
       "      <td>0</td>\n",
       "      <td>71.2833</td>\n",
       "      <td>1.0</td>\n",
       "      <td>4</td>\n",
       "    </tr>\n",
       "    <tr>\n",
       "      <th>2</th>\n",
       "      <td>3</td>\n",
       "      <td>3</td>\n",
       "      <td>1</td>\n",
       "      <td>26.000000</td>\n",
       "      <td>0</td>\n",
       "      <td>0</td>\n",
       "      <td>7.9250</td>\n",
       "      <td>0.0</td>\n",
       "      <td>2</td>\n",
       "    </tr>\n",
       "    <tr>\n",
       "      <th>3</th>\n",
       "      <td>4</td>\n",
       "      <td>1</td>\n",
       "      <td>1</td>\n",
       "      <td>35.000000</td>\n",
       "      <td>1</td>\n",
       "      <td>0</td>\n",
       "      <td>53.1000</td>\n",
       "      <td>0.0</td>\n",
       "      <td>4</td>\n",
       "    </tr>\n",
       "    <tr>\n",
       "      <th>4</th>\n",
       "      <td>5</td>\n",
       "      <td>3</td>\n",
       "      <td>0</td>\n",
       "      <td>35.000000</td>\n",
       "      <td>0</td>\n",
       "      <td>0</td>\n",
       "      <td>8.0500</td>\n",
       "      <td>0.0</td>\n",
       "      <td>3</td>\n",
       "    </tr>\n",
       "    <tr>\n",
       "      <th>...</th>\n",
       "      <td>...</td>\n",
       "      <td>...</td>\n",
       "      <td>...</td>\n",
       "      <td>...</td>\n",
       "      <td>...</td>\n",
       "      <td>...</td>\n",
       "      <td>...</td>\n",
       "      <td>...</td>\n",
       "      <td>...</td>\n",
       "    </tr>\n",
       "    <tr>\n",
       "      <th>886</th>\n",
       "      <td>887</td>\n",
       "      <td>2</td>\n",
       "      <td>0</td>\n",
       "      <td>27.000000</td>\n",
       "      <td>0</td>\n",
       "      <td>0</td>\n",
       "      <td>13.0000</td>\n",
       "      <td>0.0</td>\n",
       "      <td>6</td>\n",
       "    </tr>\n",
       "    <tr>\n",
       "      <th>887</th>\n",
       "      <td>888</td>\n",
       "      <td>1</td>\n",
       "      <td>1</td>\n",
       "      <td>19.000000</td>\n",
       "      <td>0</td>\n",
       "      <td>0</td>\n",
       "      <td>30.0000</td>\n",
       "      <td>0.0</td>\n",
       "      <td>2</td>\n",
       "    </tr>\n",
       "    <tr>\n",
       "      <th>888</th>\n",
       "      <td>889</td>\n",
       "      <td>3</td>\n",
       "      <td>1</td>\n",
       "      <td>29.699118</td>\n",
       "      <td>1</td>\n",
       "      <td>2</td>\n",
       "      <td>23.4500</td>\n",
       "      <td>0.0</td>\n",
       "      <td>2</td>\n",
       "    </tr>\n",
       "    <tr>\n",
       "      <th>889</th>\n",
       "      <td>890</td>\n",
       "      <td>1</td>\n",
       "      <td>0</td>\n",
       "      <td>26.000000</td>\n",
       "      <td>0</td>\n",
       "      <td>0</td>\n",
       "      <td>30.0000</td>\n",
       "      <td>1.0</td>\n",
       "      <td>3</td>\n",
       "    </tr>\n",
       "    <tr>\n",
       "      <th>890</th>\n",
       "      <td>891</td>\n",
       "      <td>3</td>\n",
       "      <td>0</td>\n",
       "      <td>32.000000</td>\n",
       "      <td>0</td>\n",
       "      <td>0</td>\n",
       "      <td>7.7500</td>\n",
       "      <td>2.0</td>\n",
       "      <td>3</td>\n",
       "    </tr>\n",
       "  </tbody>\n",
       "</table>\n",
       "<p>891 rows × 9 columns</p>\n",
       "</div>"
      ],
      "text/plain": [
       "     PassengerId  Pclass  Sex        Age  SibSp  Parch     Fare  Embarked  \\\n",
       "0              1       3    0  22.000000      1      0   7.2500       0.0   \n",
       "1              2       1    1  38.000000      1      0  71.2833       1.0   \n",
       "2              3       3    1  26.000000      0      0   7.9250       0.0   \n",
       "3              4       1    1  35.000000      1      0  53.1000       0.0   \n",
       "4              5       3    0  35.000000      0      0   8.0500       0.0   \n",
       "..           ...     ...  ...        ...    ...    ...      ...       ...   \n",
       "886          887       2    0  27.000000      0      0  13.0000       0.0   \n",
       "887          888       1    1  19.000000      0      0  30.0000       0.0   \n",
       "888          889       3    1  29.699118      1      2  23.4500       0.0   \n",
       "889          890       1    0  26.000000      0      0  30.0000       1.0   \n",
       "890          891       3    0  32.000000      0      0   7.7500       2.0   \n",
       "\n",
       "     Title  \n",
       "0        3  \n",
       "1        4  \n",
       "2        2  \n",
       "3        4  \n",
       "4        3  \n",
       "..     ...  \n",
       "886      6  \n",
       "887      2  \n",
       "888      2  \n",
       "889      3  \n",
       "890      3  \n",
       "\n",
       "[891 rows x 9 columns]"
      ]
     },
     "execution_count": 209,
     "metadata": {},
     "output_type": "execute_result"
    }
   ],
   "source": [
    "X=train_data[[\"PassengerId\",\"Pclass\",\"Sex\",\"Age\",\"SibSp\",\"Parch\",\"Fare\",\"Embarked\",\"Title\"]]\n",
    "X_test=test_data[[\"PassengerId\",\"Pclass\",\"Sex\",\"Age\",\"SibSp\",\"Parch\",\"Fare\",\"Embarked\",\"Title\"]]\n",
    "X"
   ]
  },
  {
   "cell_type": "code",
   "execution_count": 210,
   "metadata": {},
   "outputs": [
    {
     "data": {
      "text/plain": [
       "array([[-1.73010796,  0.82737724, -0.73769513, ..., -0.50244517,\n",
       "        -0.28037604,  0.16530862],\n",
       "       [-1.72622007, -1.56610693,  1.35557354, ...,  0.78684529,\n",
       "         0.37462188,  1.37260352],\n",
       "       [-1.72233219,  0.82737724,  1.35557354, ..., -0.48885426,\n",
       "        -0.28037604, -1.04198629],\n",
       "       ...,\n",
       "       [ 1.72233219,  0.82737724,  1.35557354, ..., -0.17626324,\n",
       "        -0.28037604, -1.04198629],\n",
       "       [ 1.72622007, -1.56610693, -0.73769513, ..., -0.04438104,\n",
       "         0.37462188,  0.16530862],\n",
       "       [ 1.73010796,  0.82737724, -0.73769513, ..., -0.49237783,\n",
       "         1.0296198 ,  0.16530862]])"
      ]
     },
     "execution_count": 210,
     "metadata": {},
     "output_type": "execute_result"
    }
   ],
   "source": [
    "# Normalize training\n",
    "transform=preprocessing.StandardScaler()\n",
    "X=transform.fit(X).transform(X)\n",
    "X_test=transform.fit(X_test).transform(X_test)\n",
    "X"
   ]
  },
  {
   "cell_type": "code",
   "execution_count": 211,
   "metadata": {},
   "outputs": [],
   "source": [
    "from sklearn.model_selection import train_test_split\n",
    "x_train,x_test,y_train,y_test=train_test_split(X,y,test_size=0.2)\n"
   ]
  },
  {
   "cell_type": "markdown",
   "metadata": {},
   "source": [
    "# LOGISTIC REGRESSION"
   ]
  },
  {
   "cell_type": "code",
   "execution_count": 212,
   "metadata": {},
   "outputs": [
    {
     "data": {
      "text/plain": [
       "GridSearchCV(cv=10, estimator=LogisticRegression(),\n",
       "             param_grid={'C': [0.01, 0.1, 1], 'penalty': ['l2'],\n",
       "                         'solver': ['lbfgs']})"
      ]
     },
     "execution_count": 212,
     "metadata": {},
     "output_type": "execute_result"
    }
   ],
   "source": [
    "parameters={\"C\":[0.01,0.1,1],\"penalty\":[\"l2\"],'solver':['lbfgs']}\n",
    "lr= LogisticRegression()\n",
    "logreg_cv=GridSearchCV(lr,parameters,cv=10)\n",
    "logreg_cv.fit(x_train,y_train)\n"
   ]
  },
  {
   "cell_type": "code",
   "execution_count": 213,
   "metadata": {},
   "outputs": [
    {
     "name": "stdout",
     "output_type": "stream",
     "text": [
      "Test_score 0.7597765363128491\n",
      "tuned hpyerparameters :(best parameters)  {'C': 1, 'penalty': 'l2', 'solver': 'lbfgs'}\n",
      "accuracy : 0.8047926447574335\n"
     ]
    }
   ],
   "source": [
    "print(\"Test_score\",logreg_cv.score(x_test,y_test))\n",
    "print(\"tuned hpyerparameters :(best parameters) \",logreg_cv.best_params_)\n",
    "print(\"accuracy :\",logreg_cv.best_score_)"
   ]
  },
  {
   "cell_type": "markdown",
   "metadata": {},
   "source": [
    "# KNN"
   ]
  },
  {
   "cell_type": "code",
   "execution_count": 214,
   "metadata": {},
   "outputs": [],
   "source": [
    "parameters = {'n_neighbors': [1, 2, 3, 4, 5, 6, 7, 8, 9, 10],\n",
    "              'algorithm': ['auto', 'ball_tree', 'kd_tree', 'brute'],\n",
    "              'p': [1,2]}\n",
    "\n",
    "KNN = KNeighborsClassifier()"
   ]
  },
  {
   "cell_type": "code",
   "execution_count": 215,
   "metadata": {},
   "outputs": [
    {
     "data": {
      "text/plain": [
       "GridSearchCV(cv=10, estimator=KNeighborsClassifier(),\n",
       "             param_grid={'algorithm': ['auto', 'ball_tree', 'kd_tree', 'brute'],\n",
       "                         'n_neighbors': [1, 2, 3, 4, 5, 6, 7, 8, 9, 10],\n",
       "                         'p': [1, 2]})"
      ]
     },
     "execution_count": 215,
     "metadata": {},
     "output_type": "execute_result"
    }
   ],
   "source": [
    "\n",
    "knn_cv=GridSearchCV(KNN,parameters,cv=10)\n",
    "knn_cv.fit(X, y)"
   ]
  },
  {
   "cell_type": "code",
   "execution_count": 216,
   "metadata": {},
   "outputs": [
    {
     "name": "stdout",
     "output_type": "stream",
     "text": [
      "Test_score 0.8603351955307262\n",
      "tuned hpyerparameters :(best parameters)  {'algorithm': 'auto', 'n_neighbors': 10, 'p': 1}\n",
      "accuracy : 0.830561797752809\n"
     ]
    }
   ],
   "source": [
    "print(\"Test_score\",knn_cv.score(x_test,y_test))\n",
    "print(\"tuned hpyerparameters :(best parameters) \",knn_cv.best_params_)\n",
    "print(\"accuracy :\",knn_cv.best_score_)"
   ]
  },
  {
   "cell_type": "markdown",
   "metadata": {},
   "source": [
    "# TREE"
   ]
  },
  {
   "cell_type": "code",
   "execution_count": 217,
   "metadata": {},
   "outputs": [],
   "source": [
    "tree = DecisionTreeClassifier()"
   ]
  },
  {
   "cell_type": "code",
   "execution_count": 218,
   "metadata": {},
   "outputs": [
    {
     "data": {
      "text/plain": [
       "DecisionTreeClassifier()"
      ]
     },
     "execution_count": 218,
     "metadata": {},
     "output_type": "execute_result"
    }
   ],
   "source": [
    "#tree_cv=GridSearchCV(tree,parameters,cv=10)\n",
    "tree.fit(x_train, y_train)"
   ]
  },
  {
   "cell_type": "code",
   "execution_count": 219,
   "metadata": {},
   "outputs": [
    {
     "name": "stdout",
     "output_type": "stream",
     "text": [
      "Test_score 0.770949720670391\n"
     ]
    }
   ],
   "source": [
    "tree.score(x_train,y_train)\n",
    "print(\"Test_score\",tree.score(x_test,y_test))"
   ]
  },
  {
   "cell_type": "code",
   "execution_count": 220,
   "metadata": {},
   "outputs": [],
   "source": [
    "result_tree=tree.predict(x_test)\n",
    "yhat=result_tree.astype(\"int\")"
   ]
  },
  {
   "cell_type": "markdown",
   "metadata": {},
   "source": [
    "# Random Forest"
   ]
  },
  {
   "cell_type": "code",
   "execution_count": 256,
   "metadata": {},
   "outputs": [
    {
     "data": {
      "text/plain": [
       "RandomForestClassifier()"
      ]
     },
     "execution_count": 256,
     "metadata": {},
     "output_type": "execute_result"
    }
   ],
   "source": [
    "model_forest=RandomForestClassifier(n_estimators=100)\n",
    "model_forest.fit(x_train,y_train)\n"
   ]
  },
  {
   "cell_type": "code",
   "execution_count": 257,
   "metadata": {},
   "outputs": [
    {
     "name": "stdout",
     "output_type": "stream",
     "text": [
      "Test_score 0.8100558659217877\n"
     ]
    }
   ],
   "source": [
    "print(\"Test_score\",model_forest.score(x_test,y_test))"
   ]
  },
  {
   "cell_type": "code",
   "execution_count": 258,
   "metadata": {},
   "outputs": [
    {
     "data": {
      "image/png": "[encoded data removed]",
      "text/plain": [
       "<Figure size 432x288 with 2 Axes>"
      ]
     },
     "metadata": {
      "needs_background": "light"
     },
     "output_type": "display_data"
    }
   ],
   "source": [
    "result=model_forest.predict(x_test)\n",
    "plot_confusion_matrix(y_test,result)\n",
    "yhat=model_forest.predict(X_test)"
   ]
  },
  {
   "cell_type": "markdown",
   "metadata": {},
   "source": [
    "# ANN"
   ]
  },
  {
   "cell_type": "code",
   "execution_count": 224,
   "metadata": {},
   "outputs": [
    {
     "name": "stdout",
     "output_type": "stream",
     "text": [
      "2.6.2\n"
     ]
    }
   ],
   "source": [
    "\n",
    "import tensorflow as tf\n",
    "from tensorflow import keras\n",
    "from tensorflow.keras import layers\n",
    "\n",
    "print(tf.__version__)"
   ]
  },
  {
   "cell_type": "code",
   "execution_count": 225,
   "metadata": {},
   "outputs": [],
   "source": [
    "from keras.models import Sequential\n",
    "from keras.layers import Dense\n",
    "from keras.wrappers.scikit_learn import KerasRegressor\n",
    "from sklearn.model_selection import cross_val_score\n",
    "from sklearn.model_selection import KFold\n",
    "from sklearn.preprocessing import StandardScaler\n",
    "from sklearn.pipeline import Pipeline"
   ]
  },
  {
   "cell_type": "code",
   "execution_count": 229,
   "metadata": {},
   "outputs": [],
   "source": [
    "model = Sequential()\n",
    "model.add(Dense(12, input_dim=9, activation='relu'))\n",
    "model.add(Dense(8, activation='relu'))\n",
    "model.add(Dense(1, activation='sigmoid'))"
   ]
  },
  {
   "cell_type": "code",
   "execution_count": 230,
   "metadata": {},
   "outputs": [
    {
     "name": "stdout",
     "output_type": "stream",
     "text": [
      "Epoch 1/150\n",
      "72/72 [==============================] - 1s 1ms/step - loss: 0.6396 - accuracy: 0.6250\n",
      "Epoch 2/150\n",
      "72/72 [==============================] - 0s 1ms/step - loss: 0.5716 - accuracy: 0.7219\n",
      "Epoch 3/150\n",
      "72/72 [==============================] - 0s 1ms/step - loss: 0.5348 - accuracy: 0.7921\n",
      "Epoch 4/150\n",
      "72/72 [==============================] - 0s 1ms/step - loss: 0.5104 - accuracy: 0.8020\n",
      "Epoch 5/150\n",
      "72/72 [==============================] - 0s 1ms/step - loss: 0.4896 - accuracy: 0.8076\n",
      "Epoch 6/150\n",
      "72/72 [==============================] - 0s 961us/step - loss: 0.4723 - accuracy: 0.8090\n",
      "Epoch 7/150\n",
      "72/72 [==============================] - 0s 1ms/step - loss: 0.4578 - accuracy: 0.8146\n",
      "Epoch 8/150\n",
      "72/72 [==============================] - 0s 884us/step - loss: 0.4453 - accuracy: 0.8160\n",
      "Epoch 9/150\n",
      "72/72 [==============================] - 0s 965us/step - loss: 0.4348 - accuracy: 0.8202\n",
      "Epoch 10/150\n",
      "72/72 [==============================] - 0s 968us/step - loss: 0.4262 - accuracy: 0.8301\n",
      "Epoch 11/150\n",
      "72/72 [==============================] - 0s 956us/step - loss: 0.4201 - accuracy: 0.8315\n",
      "Epoch 12/150\n",
      "72/72 [==============================] - 0s 1ms/step - loss: 0.4150 - accuracy: 0.8329\n",
      "Epoch 13/150\n",
      "72/72 [==============================] - 0s 1ms/step - loss: 0.4110 - accuracy: 0.8385\n",
      "Epoch 14/150\n",
      "72/72 [==============================] - 0s 819us/step - loss: 0.4072 - accuracy: 0.8371\n",
      "Epoch 15/150\n",
      "72/72 [==============================] - 0s 821us/step - loss: 0.4054 - accuracy: 0.8413\n",
      "Epoch 16/150\n",
      "72/72 [==============================] - 0s 953us/step - loss: 0.4024 - accuracy: 0.8413\n",
      "Epoch 17/150\n",
      "72/72 [==============================] - 0s 849us/step - loss: 0.3997 - accuracy: 0.8399\n",
      "Epoch 18/150\n",
      "72/72 [==============================] - 0s 902us/step - loss: 0.3979 - accuracy: 0.8385\n",
      "Epoch 19/150\n",
      "72/72 [==============================] - 0s 3ms/step - loss: 0.3965 - accuracy: 0.8399\n",
      "Epoch 20/150\n",
      "72/72 [==============================] - 0s 2ms/step - loss: 0.3951 - accuracy: 0.8399\n",
      "Epoch 21/150\n",
      "72/72 [==============================] - 0s 1ms/step - loss: 0.3927 - accuracy: 0.8413\n",
      "Epoch 22/150\n",
      "72/72 [==============================] - 0s 3ms/step - loss: 0.3921 - accuracy: 0.8385\n",
      "Epoch 23/150\n",
      "72/72 [==============================] - 0s 3ms/step - loss: 0.3907 - accuracy: 0.8357\n",
      "Epoch 24/150\n",
      "72/72 [==============================] - 0s 3ms/step - loss: 0.3883 - accuracy: 0.8385\n",
      "Epoch 25/150\n",
      "72/72 [==============================] - 0s 1ms/step - loss: 0.3876 - accuracy: 0.8413\n",
      "Epoch 26/150\n",
      "72/72 [==============================] - 0s 2ms/step - loss: 0.3863 - accuracy: 0.8455\n",
      "Epoch 27/150\n",
      "72/72 [==============================] - 0s 1ms/step - loss: 0.3855 - accuracy: 0.8455\n",
      "Epoch 28/150\n",
      "72/72 [==============================] - 0s 1ms/step - loss: 0.3839 - accuracy: 0.8441\n",
      "Epoch 29/150\n",
      "72/72 [==============================] - 0s 2ms/step - loss: 0.3828 - accuracy: 0.8469\n",
      "Epoch 30/150\n",
      "72/72 [==============================] - 0s 1ms/step - loss: 0.3817 - accuracy: 0.8455\n",
      "Epoch 31/150\n",
      "72/72 [==============================] - 0s 1ms/step - loss: 0.3820 - accuracy: 0.8441\n",
      "Epoch 32/150\n",
      "72/72 [==============================] - 0s 2ms/step - loss: 0.3802 - accuracy: 0.8413\n",
      "Epoch 33/150\n",
      "72/72 [==============================] - 0s 1ms/step - loss: 0.3793 - accuracy: 0.8455\n",
      "Epoch 34/150\n",
      "72/72 [==============================] - 0s 2ms/step - loss: 0.3782 - accuracy: 0.8469\n",
      "Epoch 35/150\n",
      "72/72 [==============================] - 0s 1ms/step - loss: 0.3776 - accuracy: 0.8427\n",
      "Epoch 36/150\n",
      "72/72 [==============================] - 0s 2ms/step - loss: 0.3769 - accuracy: 0.8483\n",
      "Epoch 37/150\n",
      "72/72 [==============================] - 0s 1ms/step - loss: 0.3757 - accuracy: 0.8511\n",
      "Epoch 38/150\n",
      "72/72 [==============================] - 0s 948us/step - loss: 0.3742 - accuracy: 0.8483\n",
      "Epoch 39/150\n",
      "72/72 [==============================] - 0s 2ms/step - loss: 0.3746 - accuracy: 0.8483\n",
      "Epoch 40/150\n",
      "72/72 [==============================] - 0s 1ms/step - loss: 0.3744 - accuracy: 0.8483\n",
      "Epoch 41/150\n",
      "72/72 [==============================] - 0s 1ms/step - loss: 0.3733 - accuracy: 0.8497\n",
      "Epoch 42/150\n",
      "72/72 [==============================] - 0s 1ms/step - loss: 0.3717 - accuracy: 0.8469\n",
      "Epoch 43/150\n",
      "72/72 [==============================] - 0s 1ms/step - loss: 0.3720 - accuracy: 0.8511\n",
      "Epoch 44/150\n",
      "72/72 [==============================] - 0s 921us/step - loss: 0.3697 - accuracy: 0.8525\n",
      "Epoch 45/150\n",
      "72/72 [==============================] - 0s 1ms/step - loss: 0.3698 - accuracy: 0.8539\n",
      "Epoch 46/150\n",
      "72/72 [==============================] - 0s 1ms/step - loss: 0.3699 - accuracy: 0.8511\n",
      "Epoch 47/150\n",
      "72/72 [==============================] - 0s 865us/step - loss: 0.3684 - accuracy: 0.8511\n",
      "Epoch 48/150\n",
      "72/72 [==============================] - 0s 832us/step - loss: 0.3683 - accuracy: 0.8469\n",
      "Epoch 49/150\n",
      "72/72 [==============================] - 0s 1ms/step - loss: 0.3676 - accuracy: 0.8553\n",
      "Epoch 50/150\n",
      "72/72 [==============================] - 0s 955us/step - loss: 0.3667 - accuracy: 0.8525\n",
      "Epoch 51/150\n",
      "72/72 [==============================] - 0s 954us/step - loss: 0.3653 - accuracy: 0.8553\n",
      "Epoch 52/150\n",
      "72/72 [==============================] - 0s 826us/step - loss: 0.3650 - accuracy: 0.8567\n",
      "Epoch 53/150\n",
      "72/72 [==============================] - 0s 759us/step - loss: 0.3638 - accuracy: 0.8553\n",
      "Epoch 54/150\n",
      "72/72 [==============================] - 0s 796us/step - loss: 0.3641 - accuracy: 0.8553\n",
      "Epoch 55/150\n",
      "72/72 [==============================] - 0s 764us/step - loss: 0.3635 - accuracy: 0.8581\n",
      "Epoch 56/150\n",
      "72/72 [==============================] - 0s 791us/step - loss: 0.3620 - accuracy: 0.8581\n",
      "Epoch 57/150\n",
      "72/72 [==============================] - 0s 768us/step - loss: 0.3622 - accuracy: 0.8581\n",
      "Epoch 58/150\n",
      "72/72 [==============================] - 0s 769us/step - loss: 0.3605 - accuracy: 0.8638\n",
      "Epoch 59/150\n",
      "72/72 [==============================] - 0s 799us/step - loss: 0.3601 - accuracy: 0.8610\n",
      "Epoch 60/150\n",
      "72/72 [==============================] - 0s 750us/step - loss: 0.3591 - accuracy: 0.8581\n",
      "Epoch 61/150\n",
      "72/72 [==============================] - 0s 1ms/step - loss: 0.3591 - accuracy: 0.8610\n",
      "Epoch 62/150\n",
      "72/72 [==============================] - 0s 799us/step - loss: 0.3576 - accuracy: 0.8610\n",
      "Epoch 63/150\n",
      "72/72 [==============================] - 0s 779us/step - loss: 0.3571 - accuracy: 0.8652\n",
      "Epoch 64/150\n",
      "72/72 [==============================] - 0s 771us/step - loss: 0.3567 - accuracy: 0.8624\n",
      "Epoch 65/150\n",
      "72/72 [==============================] - 0s 776us/step - loss: 0.3557 - accuracy: 0.8596\n",
      "Epoch 66/150\n",
      "72/72 [==============================] - 0s 1ms/step - loss: 0.3550 - accuracy: 0.8666\n",
      "Epoch 67/150\n",
      "72/72 [==============================] - 0s 834us/step - loss: 0.3547 - accuracy: 0.8596\n",
      "Epoch 68/150\n",
      "72/72 [==============================] - 0s 1ms/step - loss: 0.3539 - accuracy: 0.8596\n",
      "Epoch 69/150\n",
      "72/72 [==============================] - 0s 1000us/step - loss: 0.3534 - accuracy: 0.8624\n",
      "Epoch 70/150\n",
      "72/72 [==============================] - 0s 826us/step - loss: 0.3525 - accuracy: 0.8610\n",
      "Epoch 71/150\n",
      "72/72 [==============================] - 0s 1ms/step - loss: 0.3516 - accuracy: 0.8610\n",
      "Epoch 72/150\n",
      "72/72 [==============================] - 0s 922us/step - loss: 0.3524 - accuracy: 0.8652\n",
      "Epoch 73/150\n",
      "72/72 [==============================] - 0s 881us/step - loss: 0.3506 - accuracy: 0.8610\n",
      "Epoch 74/150\n",
      "72/72 [==============================] - 0s 883us/step - loss: 0.3495 - accuracy: 0.8652\n",
      "Epoch 75/150\n",
      "72/72 [==============================] - 0s 850us/step - loss: 0.3509 - accuracy: 0.8610\n",
      "Epoch 76/150\n",
      "72/72 [==============================] - 0s 871us/step - loss: 0.3504 - accuracy: 0.8638\n",
      "Epoch 77/150\n",
      "72/72 [==============================] - 0s 848us/step - loss: 0.3488 - accuracy: 0.8680\n",
      "Epoch 78/150\n",
      "72/72 [==============================] - 0s 801us/step - loss: 0.3481 - accuracy: 0.8652\n",
      "Epoch 79/150\n",
      "72/72 [==============================] - 0s 767us/step - loss: 0.3483 - accuracy: 0.8652\n",
      "Epoch 80/150\n",
      "72/72 [==============================] - 0s 761us/step - loss: 0.3466 - accuracy: 0.8624\n",
      "Epoch 81/150\n",
      "72/72 [==============================] - 0s 836us/step - loss: 0.3470 - accuracy: 0.8638\n",
      "Epoch 82/150\n",
      "72/72 [==============================] - 0s 995us/step - loss: 0.3463 - accuracy: 0.8680\n",
      "Epoch 83/150\n",
      "72/72 [==============================] - 0s 918us/step - loss: 0.3463 - accuracy: 0.8652\n",
      "Epoch 84/150\n",
      "72/72 [==============================] - 0s 778us/step - loss: 0.3461 - accuracy: 0.8652\n",
      "Epoch 85/150\n",
      "72/72 [==============================] - 0s 760us/step - loss: 0.3458 - accuracy: 0.8666\n",
      "Epoch 86/150\n",
      "72/72 [==============================] - 0s 809us/step - loss: 0.3452 - accuracy: 0.8680\n",
      "Epoch 87/150\n",
      "72/72 [==============================] - 0s 764us/step - loss: 0.3441 - accuracy: 0.8694\n",
      "Epoch 88/150\n",
      "72/72 [==============================] - 0s 798us/step - loss: 0.3429 - accuracy: 0.8736\n",
      "Epoch 89/150\n",
      "72/72 [==============================] - 0s 751us/step - loss: 0.3429 - accuracy: 0.8708\n",
      "Epoch 90/150\n",
      "72/72 [==============================] - 0s 776us/step - loss: 0.3439 - accuracy: 0.8694\n",
      "Epoch 91/150\n",
      "72/72 [==============================] - 0s 811us/step - loss: 0.3429 - accuracy: 0.8666\n",
      "Epoch 92/150\n",
      "72/72 [==============================] - 0s 794us/step - loss: 0.3435 - accuracy: 0.8680\n",
      "Epoch 93/150\n",
      "72/72 [==============================] - 0s 807us/step - loss: 0.3428 - accuracy: 0.8708\n",
      "Epoch 94/150\n",
      "72/72 [==============================] - 0s 824us/step - loss: 0.3411 - accuracy: 0.8680\n",
      "Epoch 95/150\n",
      "72/72 [==============================] - 0s 960us/step - loss: 0.3405 - accuracy: 0.8722\n",
      "Epoch 96/150\n",
      "72/72 [==============================] - 0s 1ms/step - loss: 0.3396 - accuracy: 0.8708\n",
      "Epoch 97/150\n",
      "72/72 [==============================] - 0s 868us/step - loss: 0.3401 - accuracy: 0.8666\n",
      "Epoch 98/150\n",
      "72/72 [==============================] - 0s 885us/step - loss: 0.3393 - accuracy: 0.8694\n",
      "Epoch 99/150\n",
      "72/72 [==============================] - 0s 853us/step - loss: 0.3390 - accuracy: 0.8708\n",
      "Epoch 100/150\n",
      "72/72 [==============================] - 0s 914us/step - loss: 0.3395 - accuracy: 0.8722\n",
      "Epoch 101/150\n",
      "72/72 [==============================] - 0s 798us/step - loss: 0.3378 - accuracy: 0.8708\n",
      "Epoch 102/150\n",
      "72/72 [==============================] - 0s 750us/step - loss: 0.3381 - accuracy: 0.8694\n",
      "Epoch 103/150\n",
      "72/72 [==============================] - 0s 774us/step - loss: 0.3368 - accuracy: 0.8764\n",
      "Epoch 104/150\n",
      "72/72 [==============================] - 0s 766us/step - loss: 0.3366 - accuracy: 0.8694\n",
      "Epoch 105/150\n",
      "72/72 [==============================] - 0s 763us/step - loss: 0.3363 - accuracy: 0.8722\n",
      "Epoch 106/150\n",
      "72/72 [==============================] - 0s 771us/step - loss: 0.3349 - accuracy: 0.8750\n",
      "Epoch 107/150\n",
      "72/72 [==============================] - 0s 777us/step - loss: 0.3359 - accuracy: 0.8680\n",
      "Epoch 108/150\n",
      "72/72 [==============================] - 0s 795us/step - loss: 0.3351 - accuracy: 0.8736\n",
      "Epoch 109/150\n",
      "72/72 [==============================] - 0s 747us/step - loss: 0.3346 - accuracy: 0.8722\n",
      "Epoch 110/150\n",
      "72/72 [==============================] - 0s 771us/step - loss: 0.3337 - accuracy: 0.8750\n",
      "Epoch 111/150\n",
      "72/72 [==============================] - 0s 756us/step - loss: 0.3330 - accuracy: 0.8792\n",
      "Epoch 112/150\n",
      "72/72 [==============================] - 0s 768us/step - loss: 0.3317 - accuracy: 0.8736\n",
      "Epoch 113/150\n",
      "72/72 [==============================] - 0s 787us/step - loss: 0.3335 - accuracy: 0.8680\n",
      "Epoch 114/150\n",
      "72/72 [==============================] - 0s 769us/step - loss: 0.3311 - accuracy: 0.8722\n",
      "Epoch 115/150\n",
      "72/72 [==============================] - 0s 843us/step - loss: 0.3303 - accuracy: 0.8736\n",
      "Epoch 116/150\n",
      "72/72 [==============================] - 0s 969us/step - loss: 0.3295 - accuracy: 0.8764\n",
      "Epoch 117/150\n",
      "72/72 [==============================] - 0s 916us/step - loss: 0.3304 - accuracy: 0.8750\n",
      "Epoch 118/150\n",
      "72/72 [==============================] - 0s 1ms/step - loss: 0.3289 - accuracy: 0.8736\n",
      "Epoch 119/150\n",
      "72/72 [==============================] - 0s 822us/step - loss: 0.3287 - accuracy: 0.8736\n",
      "Epoch 120/150\n",
      "72/72 [==============================] - 0s 804us/step - loss: 0.3280 - accuracy: 0.8736\n",
      "Epoch 121/150\n",
      "72/72 [==============================] - 0s 820us/step - loss: 0.3280 - accuracy: 0.8722\n",
      "Epoch 122/150\n",
      "72/72 [==============================] - 0s 768us/step - loss: 0.3270 - accuracy: 0.8722\n",
      "Epoch 123/150\n",
      "72/72 [==============================] - 0s 830us/step - loss: 0.3272 - accuracy: 0.8708\n",
      "Epoch 124/150\n",
      "72/72 [==============================] - 0s 1ms/step - loss: 0.3260 - accuracy: 0.8764\n",
      "Epoch 125/150\n",
      "72/72 [==============================] - 0s 984us/step - loss: 0.3273 - accuracy: 0.8736\n",
      "Epoch 126/150\n",
      "72/72 [==============================] - 0s 1ms/step - loss: 0.3261 - accuracy: 0.8722\n",
      "Epoch 127/150\n",
      "72/72 [==============================] - 0s 1ms/step - loss: 0.3248 - accuracy: 0.8764\n",
      "Epoch 128/150\n",
      "72/72 [==============================] - 0s 811us/step - loss: 0.3245 - accuracy: 0.8764\n",
      "Epoch 129/150\n",
      "72/72 [==============================] - 0s 785us/step - loss: 0.3258 - accuracy: 0.8680\n",
      "Epoch 130/150\n",
      "72/72 [==============================] - 0s 871us/step - loss: 0.3243 - accuracy: 0.8750\n",
      "Epoch 131/150\n",
      "72/72 [==============================] - 0s 913us/step - loss: 0.3243 - accuracy: 0.8736\n",
      "Epoch 132/150\n",
      "72/72 [==============================] - 0s 961us/step - loss: 0.3227 - accuracy: 0.8722\n",
      "Epoch 133/150\n",
      "72/72 [==============================] - 0s 960us/step - loss: 0.3240 - accuracy: 0.8764\n",
      "Epoch 134/150\n",
      "72/72 [==============================] - 0s 850us/step - loss: 0.3221 - accuracy: 0.8820\n",
      "Epoch 135/150\n",
      "72/72 [==============================] - 0s 934us/step - loss: 0.3217 - accuracy: 0.8764\n",
      "Epoch 136/150\n",
      "72/72 [==============================] - 0s 969us/step - loss: 0.3207 - accuracy: 0.8806\n",
      "Epoch 137/150\n",
      "72/72 [==============================] - 0s 892us/step - loss: 0.3208 - accuracy: 0.8792\n",
      "Epoch 138/150\n",
      "72/72 [==============================] - 0s 887us/step - loss: 0.3206 - accuracy: 0.8806\n",
      "Epoch 139/150\n",
      "72/72 [==============================] - 0s 970us/step - loss: 0.3200 - accuracy: 0.8792\n",
      "Epoch 140/150\n",
      "72/72 [==============================] - 0s 914us/step - loss: 0.3197 - accuracy: 0.8764\n",
      "Epoch 141/150\n",
      "72/72 [==============================] - 0s 840us/step - loss: 0.3185 - accuracy: 0.8764\n",
      "Epoch 142/150\n",
      "72/72 [==============================] - 0s 2ms/step - loss: 0.3181 - accuracy: 0.8778\n",
      "Epoch 143/150\n",
      "72/72 [==============================] - 0s 911us/step - loss: 0.3181 - accuracy: 0.8778\n",
      "Epoch 144/150\n",
      "72/72 [==============================] - 0s 855us/step - loss: 0.3168 - accuracy: 0.8792\n",
      "Epoch 145/150\n",
      "72/72 [==============================] - 0s 973us/step - loss: 0.3165 - accuracy: 0.8778\n",
      "Epoch 146/150\n",
      "72/72 [==============================] - 0s 875us/step - loss: 0.3161 - accuracy: 0.8806\n",
      "Epoch 147/150\n",
      "72/72 [==============================] - 0s 862us/step - loss: 0.3157 - accuracy: 0.8820\n",
      "Epoch 148/150\n",
      "72/72 [==============================] - 0s 832us/step - loss: 0.3168 - accuracy: 0.8764\n",
      "Epoch 149/150\n",
      "72/72 [==============================] - 0s 906us/step - loss: 0.3145 - accuracy: 0.8806\n",
      "Epoch 150/150\n",
      "72/72 [==============================] - 0s 865us/step - loss: 0.3148 - accuracy: 0.8764\n"
     ]
    },
    {
     "data": {
      "text/plain": [
       "<keras.callbacks.History at 0x7f7ed73658d0>"
      ]
     },
     "execution_count": 230,
     "metadata": {},
     "output_type": "execute_result"
    }
   ],
   "source": [
    "model.compile(loss='binary_crossentropy', optimizer='adam', metrics=['accuracy'])\n",
    "model.fit(x_train, y_train, epochs=150, batch_size=10)"
   ]
  },
  {
   "cell_type": "code",
   "execution_count": 234,
   "metadata": {},
   "outputs": [
    {
     "name": "stdout",
     "output_type": "stream",
     "text": [
      "6/6 [==============================] - 0s 1ms/step - loss: 0.4877 - accuracy: 0.7709\n",
      "Test Accuracy: 77.09\n"
     ]
    }
   ],
   "source": [
    "# evaluate the keras model\n",
    "_, accuracy = model.evaluate(x_test, y_test)\n",
    "print('Test Accuracy: %.2f' % (accuracy*100))"
   ]
  },
  {
   "cell_type": "code",
   "execution_count": 233,
   "metadata": {},
   "outputs": [],
   "source": [
    "ann_results= model.predict(x_test)\n",
    "ann_results[ann_results<0.5] = 0\n",
    "ann_results[ann_results>=0.5] = 1\n",
    "#yhat=ann_results.astype(\"int\")\n"
   ]
  },
  {
   "cell_type": "markdown",
   "metadata": {},
   "source": [
    "## Submitting CSV"
   ]
  },
  {
   "cell_type": "code",
   "execution_count": null,
   "metadata": {},
   "outputs": [],
   "source": []
  },
  {
   "cell_type": "code",
   "execution_count": 238,
   "metadata": {},
   "outputs": [
    {
     "data": {
      "text/plain": [
       "0       892\n",
       "1       893\n",
       "2       894\n",
       "3       895\n",
       "4       896\n",
       "       ... \n",
       "413    1305\n",
       "414    1306\n",
       "415    1307\n",
       "416    1308\n",
       "417    1309\n",
       "Name: PassengerId, Length: 418, dtype: int64"
      ]
     },
     "execution_count": 238,
     "metadata": {},
     "output_type": "execute_result"
    }
   ],
   "source": [
    "test_data[\"PassengerId\"]"
   ]
  },
  {
   "cell_type": "code",
   "execution_count": 239,
   "metadata": {},
   "outputs": [
    {
     "data": {
      "text/plain": [
       "179"
      ]
     },
     "execution_count": 239,
     "metadata": {},
     "output_type": "execute_result"
    }
   ],
   "source": [
    "yhat.size\n"
   ]
  },
  {
   "cell_type": "code",
   "execution_count": 259,
   "metadata": {},
   "outputs": [
    {
     "data": {
      "text/html": [
       "<div>\n",
       "<style scoped>\n",
       "    .dataframe tbody tr th:only-of-type {\n",
       "        vertical-align: middle;\n",
       "    }\n",
       "\n",
       "    .dataframe tbody tr th {\n",
       "        vertical-align: top;\n",
       "    }\n",
       "\n",
       "    .dataframe thead th {\n",
       "        text-align: right;\n",
       "    }\n",
       "</style>\n",
       "<table border=\"1\" class=\"dataframe\">\n",
       "  <thead>\n",
       "    <tr style=\"text-align: right;\">\n",
       "      <th></th>\n",
       "      <th>PassengerId</th>\n",
       "    </tr>\n",
       "  </thead>\n",
       "  <tbody>\n",
       "    <tr>\n",
       "      <th>0</th>\n",
       "      <td>892</td>\n",
       "    </tr>\n",
       "    <tr>\n",
       "      <th>1</th>\n",
       "      <td>893</td>\n",
       "    </tr>\n",
       "    <tr>\n",
       "      <th>2</th>\n",
       "      <td>894</td>\n",
       "    </tr>\n",
       "    <tr>\n",
       "      <th>3</th>\n",
       "      <td>895</td>\n",
       "    </tr>\n",
       "    <tr>\n",
       "      <th>4</th>\n",
       "      <td>896</td>\n",
       "    </tr>\n",
       "    <tr>\n",
       "      <th>...</th>\n",
       "      <td>...</td>\n",
       "    </tr>\n",
       "    <tr>\n",
       "      <th>413</th>\n",
       "      <td>1305</td>\n",
       "    </tr>\n",
       "    <tr>\n",
       "      <th>414</th>\n",
       "      <td>1306</td>\n",
       "    </tr>\n",
       "    <tr>\n",
       "      <th>415</th>\n",
       "      <td>1307</td>\n",
       "    </tr>\n",
       "    <tr>\n",
       "      <th>416</th>\n",
       "      <td>1308</td>\n",
       "    </tr>\n",
       "    <tr>\n",
       "      <th>417</th>\n",
       "      <td>1309</td>\n",
       "    </tr>\n",
       "  </tbody>\n",
       "</table>\n",
       "<p>418 rows × 1 columns</p>\n",
       "</div>"
      ],
      "text/plain": [
       "     PassengerId\n",
       "0            892\n",
       "1            893\n",
       "2            894\n",
       "3            895\n",
       "4            896\n",
       "..           ...\n",
       "413         1305\n",
       "414         1306\n",
       "415         1307\n",
       "416         1308\n",
       "417         1309\n",
       "\n",
       "[418 rows x 1 columns]"
      ]
     },
     "execution_count": 259,
     "metadata": {},
     "output_type": "execute_result"
    }
   ],
   "source": [
    "\n",
    "result= pd.DataFrame(test_data[\"PassengerId\"].values,columns=[\"PassengerId\"])\n",
    "result\n"
   ]
  },
  {
   "cell_type": "code",
   "execution_count": 260,
   "metadata": {},
   "outputs": [
    {
     "data": {
      "text/plain": [
       "418"
      ]
     },
     "execution_count": 260,
     "metadata": {},
     "output_type": "execute_result"
    }
   ],
   "source": [
    "yhat.size"
   ]
  },
  {
   "cell_type": "code",
   "execution_count": 261,
   "metadata": {},
   "outputs": [
    {
     "data": {
      "text/html": [
       "<div>\n",
       "<style scoped>\n",
       "    .dataframe tbody tr th:only-of-type {\n",
       "        vertical-align: middle;\n",
       "    }\n",
       "\n",
       "    .dataframe tbody tr th {\n",
       "        vertical-align: top;\n",
       "    }\n",
       "\n",
       "    .dataframe thead th {\n",
       "        text-align: right;\n",
       "    }\n",
       "</style>\n",
       "<table border=\"1\" class=\"dataframe\">\n",
       "  <thead>\n",
       "    <tr style=\"text-align: right;\">\n",
       "      <th></th>\n",
       "      <th>PassengerId</th>\n",
       "      <th>Survived</th>\n",
       "    </tr>\n",
       "  </thead>\n",
       "  <tbody>\n",
       "    <tr>\n",
       "      <th>0</th>\n",
       "      <td>892</td>\n",
       "      <td>0</td>\n",
       "    </tr>\n",
       "    <tr>\n",
       "      <th>1</th>\n",
       "      <td>893</td>\n",
       "      <td>0</td>\n",
       "    </tr>\n",
       "    <tr>\n",
       "      <th>2</th>\n",
       "      <td>894</td>\n",
       "      <td>0</td>\n",
       "    </tr>\n",
       "    <tr>\n",
       "      <th>3</th>\n",
       "      <td>895</td>\n",
       "      <td>0</td>\n",
       "    </tr>\n",
       "    <tr>\n",
       "      <th>4</th>\n",
       "      <td>896</td>\n",
       "      <td>1</td>\n",
       "    </tr>\n",
       "    <tr>\n",
       "      <th>...</th>\n",
       "      <td>...</td>\n",
       "      <td>...</td>\n",
       "    </tr>\n",
       "    <tr>\n",
       "      <th>413</th>\n",
       "      <td>1305</td>\n",
       "      <td>0</td>\n",
       "    </tr>\n",
       "    <tr>\n",
       "      <th>414</th>\n",
       "      <td>1306</td>\n",
       "      <td>1</td>\n",
       "    </tr>\n",
       "    <tr>\n",
       "      <th>415</th>\n",
       "      <td>1307</td>\n",
       "      <td>0</td>\n",
       "    </tr>\n",
       "    <tr>\n",
       "      <th>416</th>\n",
       "      <td>1308</td>\n",
       "      <td>0</td>\n",
       "    </tr>\n",
       "    <tr>\n",
       "      <th>417</th>\n",
       "      <td>1309</td>\n",
       "      <td>1</td>\n",
       "    </tr>\n",
       "  </tbody>\n",
       "</table>\n",
       "<p>418 rows × 2 columns</p>\n",
       "</div>"
      ],
      "text/plain": [
       "     PassengerId  Survived\n",
       "0            892         0\n",
       "1            893         0\n",
       "2            894         0\n",
       "3            895         0\n",
       "4            896         1\n",
       "..           ...       ...\n",
       "413         1305         0\n",
       "414         1306         1\n",
       "415         1307         0\n",
       "416         1308         0\n",
       "417         1309         1\n",
       "\n",
       "[418 rows x 2 columns]"
      ]
     },
     "execution_count": 261,
     "metadata": {},
     "output_type": "execute_result"
    }
   ],
   "source": [
    "result.insert(1,\"Survived\",yhat)\n",
    "result\n"
   ]
  },
  {
   "cell_type": "code",
   "execution_count": 262,
   "metadata": {},
   "outputs": [],
   "source": [
    "result.to_csv('result.csv', index=False)"
   ]
  }
 ],
 "metadata": {
  "interpreter": {
   "hash": "78d7850bc6c10cef35280cfa0f829f85c1c75e59642fd25ca7313af013a788b7"
  },
  "kernelspec": {
   "display_name": "Python 3.6.10 ('base')",
   "language": "python",
   "name": "python3"
  },
  "language_info": {
   "codemirror_mode": {
    "name": "ipython",
    "version": 3
   },
   "file_extension": ".py",
   "mimetype": "text/x-python",
   "name": "python",
   "nbconvert_exporter": "python",
   "pygments_lexer": "ipython3",
   "version": "3.6.10"
  },
  "orig_nbformat": 4
 },
 "nbformat": 4,
 "nbformat_minor": 2
}
