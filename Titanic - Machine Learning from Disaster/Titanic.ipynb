{
 "cells": [
  {
   "cell_type": "markdown",
   "metadata": {},
   "source": [
    "#  Importing Packages"
   ]
  },
  {
   "cell_type": "code",
   "execution_count": 1,
   "metadata": {},
   "outputs": [],
   "source": [
    "\n",
    "import pandas as pd\n",
    "import numpy as np\n",
    "import matplotlib.pyplot as plt\n",
    "from sklearn import preprocessing\n",
    "from sklearn.linear_model import LogisticRegression\n",
    "from sklearn.svm import SVC\n",
    "from sklearn.neighbors import KNeighborsClassifier\n",
    "from sklearn.tree import DecisionTreeClassifier\n",
    "from sklearn.model_selection import GridSearchCV"
   ]
  },
  {
   "cell_type": "markdown",
   "metadata": {},
   "source": [
    "## Data collection "
   ]
  },
  {
   "cell_type": "code",
   "execution_count": 2,
   "metadata": {},
   "outputs": [],
   "source": [
    "gender_sub=pd.read_csv(\"data/gender_submission.csv\")\n",
    "train_data=pd.read_csv(\"data/train.csv\")\n",
    "test_data=pd.read_csv(\"data/test.csv\")"
   ]
  },
  {
   "cell_type": "code",
   "execution_count": 3,
   "metadata": {},
   "outputs": [
    {
     "data": {
      "text/html": [
       "<div>\n",
       "<style scoped>\n",
       "    .dataframe tbody tr th:only-of-type {\n",
       "        vertical-align: middle;\n",
       "    }\n",
       "\n",
       "    .dataframe tbody tr th {\n",
       "        vertical-align: top;\n",
       "    }\n",
       "\n",
       "    .dataframe thead th {\n",
       "        text-align: right;\n",
       "    }\n",
       "</style>\n",
       "<table border=\"1\" class=\"dataframe\">\n",
       "  <thead>\n",
       "    <tr style=\"text-align: right;\">\n",
       "      <th></th>\n",
       "      <th>PassengerId</th>\n",
       "      <th>Survived</th>\n",
       "    </tr>\n",
       "  </thead>\n",
       "  <tbody>\n",
       "    <tr>\n",
       "      <th>0</th>\n",
       "      <td>892</td>\n",
       "      <td>0</td>\n",
       "    </tr>\n",
       "    <tr>\n",
       "      <th>1</th>\n",
       "      <td>893</td>\n",
       "      <td>1</td>\n",
       "    </tr>\n",
       "    <tr>\n",
       "      <th>2</th>\n",
       "      <td>894</td>\n",
       "      <td>0</td>\n",
       "    </tr>\n",
       "    <tr>\n",
       "      <th>3</th>\n",
       "      <td>895</td>\n",
       "      <td>0</td>\n",
       "    </tr>\n",
       "    <tr>\n",
       "      <th>4</th>\n",
       "      <td>896</td>\n",
       "      <td>1</td>\n",
       "    </tr>\n",
       "  </tbody>\n",
       "</table>\n",
       "</div>"
      ],
      "text/plain": [
       "   PassengerId  Survived\n",
       "0          892         0\n",
       "1          893         1\n",
       "2          894         0\n",
       "3          895         0\n",
       "4          896         1"
      ]
     },
     "execution_count": 3,
     "metadata": {},
     "output_type": "execute_result"
    }
   ],
   "source": [
    "gender_sub.head(5)\n"
   ]
  },
  {
   "cell_type": "code",
   "execution_count": 4,
   "metadata": {},
   "outputs": [
    {
     "data": {
      "text/html": [
       "<div>\n",
       "<style scoped>\n",
       "    .dataframe tbody tr th:only-of-type {\n",
       "        vertical-align: middle;\n",
       "    }\n",
       "\n",
       "    .dataframe tbody tr th {\n",
       "        vertical-align: top;\n",
       "    }\n",
       "\n",
       "    .dataframe thead th {\n",
       "        text-align: right;\n",
       "    }\n",
       "</style>\n",
       "<table border=\"1\" class=\"dataframe\">\n",
       "  <thead>\n",
       "    <tr style=\"text-align: right;\">\n",
       "      <th></th>\n",
       "      <th>PassengerId</th>\n",
       "      <th>Survived</th>\n",
       "      <th>Pclass</th>\n",
       "      <th>Name</th>\n",
       "      <th>Sex</th>\n",
       "      <th>Age</th>\n",
       "      <th>SibSp</th>\n",
       "      <th>Parch</th>\n",
       "      <th>Ticket</th>\n",
       "      <th>Fare</th>\n",
       "      <th>Cabin</th>\n",
       "      <th>Embarked</th>\n",
       "    </tr>\n",
       "  </thead>\n",
       "  <tbody>\n",
       "    <tr>\n",
       "      <th>0</th>\n",
       "      <td>1</td>\n",
       "      <td>0</td>\n",
       "      <td>3</td>\n",
       "      <td>Braund, Mr. Owen Harris</td>\n",
       "      <td>male</td>\n",
       "      <td>22.0</td>\n",
       "      <td>1</td>\n",
       "      <td>0</td>\n",
       "      <td>A/5 21171</td>\n",
       "      <td>7.2500</td>\n",
       "      <td>NaN</td>\n",
       "      <td>S</td>\n",
       "    </tr>\n",
       "    <tr>\n",
       "      <th>1</th>\n",
       "      <td>2</td>\n",
       "      <td>1</td>\n",
       "      <td>1</td>\n",
       "      <td>Cumings, Mrs. John Bradley (Florence Briggs Th...</td>\n",
       "      <td>female</td>\n",
       "      <td>38.0</td>\n",
       "      <td>1</td>\n",
       "      <td>0</td>\n",
       "      <td>PC 17599</td>\n",
       "      <td>71.2833</td>\n",
       "      <td>C85</td>\n",
       "      <td>C</td>\n",
       "    </tr>\n",
       "    <tr>\n",
       "      <th>2</th>\n",
       "      <td>3</td>\n",
       "      <td>1</td>\n",
       "      <td>3</td>\n",
       "      <td>Heikkinen, Miss. Laina</td>\n",
       "      <td>female</td>\n",
       "      <td>26.0</td>\n",
       "      <td>0</td>\n",
       "      <td>0</td>\n",
       "      <td>STON/O2. 3101282</td>\n",
       "      <td>7.9250</td>\n",
       "      <td>NaN</td>\n",
       "      <td>S</td>\n",
       "    </tr>\n",
       "    <tr>\n",
       "      <th>3</th>\n",
       "      <td>4</td>\n",
       "      <td>1</td>\n",
       "      <td>1</td>\n",
       "      <td>Futrelle, Mrs. Jacques Heath (Lily May Peel)</td>\n",
       "      <td>female</td>\n",
       "      <td>35.0</td>\n",
       "      <td>1</td>\n",
       "      <td>0</td>\n",
       "      <td>113803</td>\n",
       "      <td>53.1000</td>\n",
       "      <td>C123</td>\n",
       "      <td>S</td>\n",
       "    </tr>\n",
       "    <tr>\n",
       "      <th>4</th>\n",
       "      <td>5</td>\n",
       "      <td>0</td>\n",
       "      <td>3</td>\n",
       "      <td>Allen, Mr. William Henry</td>\n",
       "      <td>male</td>\n",
       "      <td>35.0</td>\n",
       "      <td>0</td>\n",
       "      <td>0</td>\n",
       "      <td>373450</td>\n",
       "      <td>8.0500</td>\n",
       "      <td>NaN</td>\n",
       "      <td>S</td>\n",
       "    </tr>\n",
       "    <tr>\n",
       "      <th>5</th>\n",
       "      <td>6</td>\n",
       "      <td>0</td>\n",
       "      <td>3</td>\n",
       "      <td>Moran, Mr. James</td>\n",
       "      <td>male</td>\n",
       "      <td>NaN</td>\n",
       "      <td>0</td>\n",
       "      <td>0</td>\n",
       "      <td>330877</td>\n",
       "      <td>8.4583</td>\n",
       "      <td>NaN</td>\n",
       "      <td>Q</td>\n",
       "    </tr>\n",
       "    <tr>\n",
       "      <th>6</th>\n",
       "      <td>7</td>\n",
       "      <td>0</td>\n",
       "      <td>1</td>\n",
       "      <td>McCarthy, Mr. Timothy J</td>\n",
       "      <td>male</td>\n",
       "      <td>54.0</td>\n",
       "      <td>0</td>\n",
       "      <td>0</td>\n",
       "      <td>17463</td>\n",
       "      <td>51.8625</td>\n",
       "      <td>E46</td>\n",
       "      <td>S</td>\n",
       "    </tr>\n",
       "    <tr>\n",
       "      <th>7</th>\n",
       "      <td>8</td>\n",
       "      <td>0</td>\n",
       "      <td>3</td>\n",
       "      <td>Palsson, Master. Gosta Leonard</td>\n",
       "      <td>male</td>\n",
       "      <td>2.0</td>\n",
       "      <td>3</td>\n",
       "      <td>1</td>\n",
       "      <td>349909</td>\n",
       "      <td>21.0750</td>\n",
       "      <td>NaN</td>\n",
       "      <td>S</td>\n",
       "    </tr>\n",
       "  </tbody>\n",
       "</table>\n",
       "</div>"
      ],
      "text/plain": [
       "   PassengerId  Survived  Pclass  \\\n",
       "0            1         0       3   \n",
       "1            2         1       1   \n",
       "2            3         1       3   \n",
       "3            4         1       1   \n",
       "4            5         0       3   \n",
       "5            6         0       3   \n",
       "6            7         0       1   \n",
       "7            8         0       3   \n",
       "\n",
       "                                                Name     Sex   Age  SibSp  \\\n",
       "0                            Braund, Mr. Owen Harris    male  22.0      1   \n",
       "1  Cumings, Mrs. John Bradley (Florence Briggs Th...  female  38.0      1   \n",
       "2                             Heikkinen, Miss. Laina  female  26.0      0   \n",
       "3       Futrelle, Mrs. Jacques Heath (Lily May Peel)  female  35.0      1   \n",
       "4                           Allen, Mr. William Henry    male  35.0      0   \n",
       "5                                   Moran, Mr. James    male   NaN      0   \n",
       "6                            McCarthy, Mr. Timothy J    male  54.0      0   \n",
       "7                     Palsson, Master. Gosta Leonard    male   2.0      3   \n",
       "\n",
       "   Parch            Ticket     Fare Cabin Embarked  \n",
       "0      0         A/5 21171   7.2500   NaN        S  \n",
       "1      0          PC 17599  71.2833   C85        C  \n",
       "2      0  STON/O2. 3101282   7.9250   NaN        S  \n",
       "3      0            113803  53.1000  C123        S  \n",
       "4      0            373450   8.0500   NaN        S  \n",
       "5      0            330877   8.4583   NaN        Q  \n",
       "6      0             17463  51.8625   E46        S  \n",
       "7      1            349909  21.0750   NaN        S  "
      ]
     },
     "execution_count": 4,
     "metadata": {},
     "output_type": "execute_result"
    }
   ],
   "source": [
    "train_data.head(8)"
   ]
  },
  {
   "cell_type": "markdown",
   "metadata": {},
   "source": [
    "# Data Cleaning"
   ]
  },
  {
   "cell_type": "code",
   "execution_count": 5,
   "metadata": {},
   "outputs": [
    {
     "data": {
      "text/html": [
       "<div>\n",
       "<style scoped>\n",
       "    .dataframe tbody tr th:only-of-type {\n",
       "        vertical-align: middle;\n",
       "    }\n",
       "\n",
       "    .dataframe tbody tr th {\n",
       "        vertical-align: top;\n",
       "    }\n",
       "\n",
       "    .dataframe thead th {\n",
       "        text-align: right;\n",
       "    }\n",
       "</style>\n",
       "<table border=\"1\" class=\"dataframe\">\n",
       "  <thead>\n",
       "    <tr style=\"text-align: right;\">\n",
       "      <th></th>\n",
       "      <th>PassengerId</th>\n",
       "      <th>Pclass</th>\n",
       "      <th>Name</th>\n",
       "      <th>Sex</th>\n",
       "      <th>Age</th>\n",
       "      <th>SibSp</th>\n",
       "      <th>Parch</th>\n",
       "      <th>Ticket</th>\n",
       "      <th>Fare</th>\n",
       "      <th>Cabin</th>\n",
       "      <th>Embarked</th>\n",
       "    </tr>\n",
       "  </thead>\n",
       "  <tbody>\n",
       "    <tr>\n",
       "      <th>0</th>\n",
       "      <td>892</td>\n",
       "      <td>3</td>\n",
       "      <td>Kelly, Mr. James</td>\n",
       "      <td>male</td>\n",
       "      <td>34.5</td>\n",
       "      <td>0</td>\n",
       "      <td>0</td>\n",
       "      <td>330911</td>\n",
       "      <td>7.8292</td>\n",
       "      <td>NaN</td>\n",
       "      <td>Q</td>\n",
       "    </tr>\n",
       "    <tr>\n",
       "      <th>1</th>\n",
       "      <td>893</td>\n",
       "      <td>3</td>\n",
       "      <td>Wilkes, Mrs. James (Ellen Needs)</td>\n",
       "      <td>female</td>\n",
       "      <td>47.0</td>\n",
       "      <td>1</td>\n",
       "      <td>0</td>\n",
       "      <td>363272</td>\n",
       "      <td>7.0000</td>\n",
       "      <td>NaN</td>\n",
       "      <td>S</td>\n",
       "    </tr>\n",
       "    <tr>\n",
       "      <th>2</th>\n",
       "      <td>894</td>\n",
       "      <td>2</td>\n",
       "      <td>Myles, Mr. Thomas Francis</td>\n",
       "      <td>male</td>\n",
       "      <td>62.0</td>\n",
       "      <td>0</td>\n",
       "      <td>0</td>\n",
       "      <td>240276</td>\n",
       "      <td>9.6875</td>\n",
       "      <td>NaN</td>\n",
       "      <td>Q</td>\n",
       "    </tr>\n",
       "    <tr>\n",
       "      <th>3</th>\n",
       "      <td>895</td>\n",
       "      <td>3</td>\n",
       "      <td>Wirz, Mr. Albert</td>\n",
       "      <td>male</td>\n",
       "      <td>27.0</td>\n",
       "      <td>0</td>\n",
       "      <td>0</td>\n",
       "      <td>315154</td>\n",
       "      <td>8.6625</td>\n",
       "      <td>NaN</td>\n",
       "      <td>S</td>\n",
       "    </tr>\n",
       "    <tr>\n",
       "      <th>4</th>\n",
       "      <td>896</td>\n",
       "      <td>3</td>\n",
       "      <td>Hirvonen, Mrs. Alexander (Helga E Lindqvist)</td>\n",
       "      <td>female</td>\n",
       "      <td>22.0</td>\n",
       "      <td>1</td>\n",
       "      <td>1</td>\n",
       "      <td>3101298</td>\n",
       "      <td>12.2875</td>\n",
       "      <td>NaN</td>\n",
       "      <td>S</td>\n",
       "    </tr>\n",
       "  </tbody>\n",
       "</table>\n",
       "</div>"
      ],
      "text/plain": [
       "   PassengerId  Pclass                                          Name     Sex  \\\n",
       "0          892       3                              Kelly, Mr. James    male   \n",
       "1          893       3              Wilkes, Mrs. James (Ellen Needs)  female   \n",
       "2          894       2                     Myles, Mr. Thomas Francis    male   \n",
       "3          895       3                              Wirz, Mr. Albert    male   \n",
       "4          896       3  Hirvonen, Mrs. Alexander (Helga E Lindqvist)  female   \n",
       "\n",
       "    Age  SibSp  Parch   Ticket     Fare Cabin Embarked  \n",
       "0  34.5      0      0   330911   7.8292   NaN        Q  \n",
       "1  47.0      1      0   363272   7.0000   NaN        S  \n",
       "2  62.0      0      0   240276   9.6875   NaN        Q  \n",
       "3  27.0      0      0   315154   8.6625   NaN        S  \n",
       "4  22.0      1      1  3101298  12.2875   NaN        S  "
      ]
     },
     "execution_count": 5,
     "metadata": {},
     "output_type": "execute_result"
    }
   ],
   "source": [
    "test_data.head()"
   ]
  },
  {
   "cell_type": "code",
   "execution_count": 6,
   "metadata": {},
   "outputs": [
    {
     "data": {
      "text/plain": [
       "PassengerId      0.000000\n",
       "Survived         0.000000\n",
       "Pclass           0.000000\n",
       "Name             0.000000\n",
       "Sex              0.000000\n",
       "Age             24.789916\n",
       "SibSp            0.000000\n",
       "Parch            0.000000\n",
       "Ticket           0.000000\n",
       "Fare             0.000000\n",
       "Cabin          336.764706\n",
       "Embarked         0.224972\n",
       "dtype: float64"
      ]
     },
     "execution_count": 6,
     "metadata": {},
     "output_type": "execute_result"
    }
   ],
   "source": [
    "# Controlling Missing values in dataset\n",
    "train_data.isnull().sum()/train_data.count()*100"
   ]
  },
  {
   "cell_type": "code",
   "execution_count": 7,
   "metadata": {},
   "outputs": [
    {
     "data": {
      "text/plain": [
       "PassengerId      int64\n",
       "Survived         int64\n",
       "Pclass           int64\n",
       "Name            object\n",
       "Sex             object\n",
       "Age            float64\n",
       "SibSp            int64\n",
       "Parch            int64\n",
       "Ticket          object\n",
       "Fare           float64\n",
       "Cabin           object\n",
       "Embarked        object\n",
       "dtype: object"
      ]
     },
     "execution_count": 7,
     "metadata": {},
     "output_type": "execute_result"
    }
   ],
   "source": [
    "#Identify which columns are numerical and categorical:\n",
    "train_data.dtypes"
   ]
  },
  {
   "cell_type": "markdown",
   "metadata": {},
   "source": [
    "## Dealing with the Nan values"
   ]
  },
  {
   "cell_type": "code",
   "execution_count": 8,
   "metadata": {},
   "outputs": [],
   "source": [
    "# calculating the mean of age column\n",
    "age_mean=train_data[\"Age\"].astype(\"float\").mean(axis=0) # getting the age values mean\n",
    "train_data.replace(np.nan,age_mean,inplace=True)\n",
    "# same process for fare\n",
    "fare_mean=train_data[\"Fare\"].astype(\"float\").mean(axis=0)\n",
    "train_data.replace(np.nan,fare_mean,inplace=True)\n",
    "\n",
    "# SAME PROCESS FOR TEST SET\n",
    "# calculating the mean of age column\n",
    "age_mean=test_data[\"Age\"].astype(\"float\").mean(axis=0) # getting the age values mean\n",
    "test_data.replace(np.nan,age_mean,inplace=True)\n",
    "# same process for fare\n",
    "fare_mean=test_data[\"Fare\"].astype(\"float\").mean(axis=0)\n",
    "test_data.replace(np.nan,fare_mean,inplace=True)"
   ]
  },
  {
   "cell_type": "code",
   "execution_count": 9,
   "metadata": {},
   "outputs": [
    {
     "data": {
      "text/plain": [
       "array([0, 1, 1, 1, 0, 0, 0, 0, 1, 1, 1, 1, 0, 0, 0, 1, 0, 1, 0, 1, 0, 1,\n",
       "       1, 1, 0, 1, 0, 0, 1, 0, 0, 1, 1, 0, 0, 0, 1, 0, 0, 1, 0, 0, 0, 1,\n",
       "       1, 0, 0, 1, 0, 0, 0, 0, 1, 1, 0, 1, 1, 0, 1, 0, 0, 1, 0, 0, 0, 1,\n",
       "       1, 0, 1, 0, 0, 0, 0, 0, 1, 0, 0, 0, 1, 1, 0, 1, 1, 0, 1, 1, 0, 0,\n",
       "       1, 0, 0, 0, 0, 0, 0, 0, 0, 1, 1, 0])"
      ]
     },
     "execution_count": 9,
     "metadata": {},
     "output_type": "execute_result"
    }
   ],
   "source": [
    "y=train_data[\"Survived\"].to_numpy()\n",
    "\n",
    "y[0:100]\n",
    "\n"
   ]
  },
  {
   "cell_type": "code",
   "execution_count": 10,
   "metadata": {},
   "outputs": [
    {
     "data": {
      "text/plain": [
       "0    0\n",
       "1    1\n",
       "2    1\n",
       "3    1\n",
       "4    0\n",
       "Name: Sex, dtype: int64"
      ]
     },
     "execution_count": 10,
     "metadata": {},
     "output_type": "execute_result"
    }
   ],
   "source": [
    "train_data[\"Sex\"].replace(\"male\",0,inplace=True)\n",
    "train_data[\"Sex\"].replace(\"female\",1,inplace=True)\n",
    "test_data[\"Sex\"].replace(\"male\",0,inplace=True)\n",
    "test_data[\"Sex\"].replace(\"female\",1,inplace=True)\n",
    "train_data[\"Sex\"].head()"
   ]
  },
  {
   "cell_type": "code",
   "execution_count": 11,
   "metadata": {},
   "outputs": [],
   "source": [
    "train_data[\"Embarked\"].replace(\"S\",0,inplace=True)\n",
    "train_data[\"Embarked\"].replace(\"C\",1,inplace=True)\n",
    "train_data[\"Embarked\"].replace(\"Q\",2,inplace=True)\n",
    "train_data[\"Embarked\"]\n",
    "\n",
    "test_data[\"Embarked\"].replace(\"S\",0,inplace=True)\n",
    "test_data[\"Embarked\"].replace(\"C\",1,inplace=True)\n",
    "test_data[\"Embarked\"].replace(\"Q\",2,inplace=True)\n"
   ]
  },
  {
   "cell_type": "code",
   "execution_count": 12,
   "metadata": {},
   "outputs": [
    {
     "data": {
      "text/html": [
       "<div>\n",
       "<style scoped>\n",
       "    .dataframe tbody tr th:only-of-type {\n",
       "        vertical-align: middle;\n",
       "    }\n",
       "\n",
       "    .dataframe tbody tr th {\n",
       "        vertical-align: top;\n",
       "    }\n",
       "\n",
       "    .dataframe thead th {\n",
       "        text-align: right;\n",
       "    }\n",
       "</style>\n",
       "<table border=\"1\" class=\"dataframe\">\n",
       "  <thead>\n",
       "    <tr style=\"text-align: right;\">\n",
       "      <th></th>\n",
       "      <th>PassengerId</th>\n",
       "      <th>Pclass</th>\n",
       "      <th>Sex</th>\n",
       "      <th>Age</th>\n",
       "      <th>SibSp</th>\n",
       "      <th>Parch</th>\n",
       "      <th>Fare</th>\n",
       "      <th>Embarked</th>\n",
       "    </tr>\n",
       "  </thead>\n",
       "  <tbody>\n",
       "    <tr>\n",
       "      <th>0</th>\n",
       "      <td>1</td>\n",
       "      <td>3</td>\n",
       "      <td>0</td>\n",
       "      <td>22.000000</td>\n",
       "      <td>1</td>\n",
       "      <td>0</td>\n",
       "      <td>7.2500</td>\n",
       "      <td>0.0</td>\n",
       "    </tr>\n",
       "    <tr>\n",
       "      <th>1</th>\n",
       "      <td>2</td>\n",
       "      <td>1</td>\n",
       "      <td>1</td>\n",
       "      <td>38.000000</td>\n",
       "      <td>1</td>\n",
       "      <td>0</td>\n",
       "      <td>71.2833</td>\n",
       "      <td>1.0</td>\n",
       "    </tr>\n",
       "    <tr>\n",
       "      <th>2</th>\n",
       "      <td>3</td>\n",
       "      <td>3</td>\n",
       "      <td>1</td>\n",
       "      <td>26.000000</td>\n",
       "      <td>0</td>\n",
       "      <td>0</td>\n",
       "      <td>7.9250</td>\n",
       "      <td>0.0</td>\n",
       "    </tr>\n",
       "    <tr>\n",
       "      <th>3</th>\n",
       "      <td>4</td>\n",
       "      <td>1</td>\n",
       "      <td>1</td>\n",
       "      <td>35.000000</td>\n",
       "      <td>1</td>\n",
       "      <td>0</td>\n",
       "      <td>53.1000</td>\n",
       "      <td>0.0</td>\n",
       "    </tr>\n",
       "    <tr>\n",
       "      <th>4</th>\n",
       "      <td>5</td>\n",
       "      <td>3</td>\n",
       "      <td>0</td>\n",
       "      <td>35.000000</td>\n",
       "      <td>0</td>\n",
       "      <td>0</td>\n",
       "      <td>8.0500</td>\n",
       "      <td>0.0</td>\n",
       "    </tr>\n",
       "    <tr>\n",
       "      <th>...</th>\n",
       "      <td>...</td>\n",
       "      <td>...</td>\n",
       "      <td>...</td>\n",
       "      <td>...</td>\n",
       "      <td>...</td>\n",
       "      <td>...</td>\n",
       "      <td>...</td>\n",
       "      <td>...</td>\n",
       "    </tr>\n",
       "    <tr>\n",
       "      <th>886</th>\n",
       "      <td>887</td>\n",
       "      <td>2</td>\n",
       "      <td>0</td>\n",
       "      <td>27.000000</td>\n",
       "      <td>0</td>\n",
       "      <td>0</td>\n",
       "      <td>13.0000</td>\n",
       "      <td>0.0</td>\n",
       "    </tr>\n",
       "    <tr>\n",
       "      <th>887</th>\n",
       "      <td>888</td>\n",
       "      <td>1</td>\n",
       "      <td>1</td>\n",
       "      <td>19.000000</td>\n",
       "      <td>0</td>\n",
       "      <td>0</td>\n",
       "      <td>30.0000</td>\n",
       "      <td>0.0</td>\n",
       "    </tr>\n",
       "    <tr>\n",
       "      <th>888</th>\n",
       "      <td>889</td>\n",
       "      <td>3</td>\n",
       "      <td>1</td>\n",
       "      <td>29.699118</td>\n",
       "      <td>1</td>\n",
       "      <td>2</td>\n",
       "      <td>23.4500</td>\n",
       "      <td>0.0</td>\n",
       "    </tr>\n",
       "    <tr>\n",
       "      <th>889</th>\n",
       "      <td>890</td>\n",
       "      <td>1</td>\n",
       "      <td>0</td>\n",
       "      <td>26.000000</td>\n",
       "      <td>0</td>\n",
       "      <td>0</td>\n",
       "      <td>30.0000</td>\n",
       "      <td>1.0</td>\n",
       "    </tr>\n",
       "    <tr>\n",
       "      <th>890</th>\n",
       "      <td>891</td>\n",
       "      <td>3</td>\n",
       "      <td>0</td>\n",
       "      <td>32.000000</td>\n",
       "      <td>0</td>\n",
       "      <td>0</td>\n",
       "      <td>7.7500</td>\n",
       "      <td>2.0</td>\n",
       "    </tr>\n",
       "  </tbody>\n",
       "</table>\n",
       "<p>891 rows × 8 columns</p>\n",
       "</div>"
      ],
      "text/plain": [
       "     PassengerId  Pclass  Sex        Age  SibSp  Parch     Fare  Embarked\n",
       "0              1       3    0  22.000000      1      0   7.2500       0.0\n",
       "1              2       1    1  38.000000      1      0  71.2833       1.0\n",
       "2              3       3    1  26.000000      0      0   7.9250       0.0\n",
       "3              4       1    1  35.000000      1      0  53.1000       0.0\n",
       "4              5       3    0  35.000000      0      0   8.0500       0.0\n",
       "..           ...     ...  ...        ...    ...    ...      ...       ...\n",
       "886          887       2    0  27.000000      0      0  13.0000       0.0\n",
       "887          888       1    1  19.000000      0      0  30.0000       0.0\n",
       "888          889       3    1  29.699118      1      2  23.4500       0.0\n",
       "889          890       1    0  26.000000      0      0  30.0000       1.0\n",
       "890          891       3    0  32.000000      0      0   7.7500       2.0\n",
       "\n",
       "[891 rows x 8 columns]"
      ]
     },
     "execution_count": 12,
     "metadata": {},
     "output_type": "execute_result"
    }
   ],
   "source": [
    "X=train_data[[\"PassengerId\",\"Pclass\",\"Sex\",\"Age\",\"SibSp\",\"Parch\",\"Fare\",\"Embarked\"]]\n",
    "X_test=test_data[[\"PassengerId\",\"Pclass\",\"Sex\",\"Age\",\"SibSp\",\"Parch\",\"Fare\",\"Embarked\"]]\n",
    "X"
   ]
  },
  {
   "cell_type": "code",
   "execution_count": 48,
   "metadata": {},
   "outputs": [
    {
     "data": {
      "text/plain": [
       "array([[-1.73010796,  0.82737724, -0.73769513, ..., -0.47367361,\n",
       "        -0.50244517, -0.28037604],\n",
       "       [-1.72622007, -1.56610693,  1.35557354, ..., -0.47367361,\n",
       "         0.78684529,  0.37462188],\n",
       "       [-1.72233219,  0.82737724,  1.35557354, ..., -0.47367361,\n",
       "        -0.48885426, -0.28037604],\n",
       "       ...,\n",
       "       [ 1.72233219,  0.82737724,  1.35557354, ...,  2.00893337,\n",
       "        -0.17626324, -0.28037604],\n",
       "       [ 1.72622007, -1.56610693, -0.73769513, ..., -0.47367361,\n",
       "        -0.04438104,  0.37462188],\n",
       "       [ 1.73010796,  0.82737724, -0.73769513, ..., -0.47367361,\n",
       "        -0.49237783,  1.0296198 ]])"
      ]
     },
     "execution_count": 48,
     "metadata": {},
     "output_type": "execute_result"
    }
   ],
   "source": [
    "# Normalize training\n",
    "transform=preprocessing.StandardScaler()\n",
    "X=transform.fit(X).transform(X)\n",
    "X_test=transform.fit(X_test).transform(X_test)\n",
    "X"
   ]
  },
  {
   "cell_type": "markdown",
   "metadata": {},
   "source": [
    "# LOGISTIC REGRESSION"
   ]
  },
  {
   "cell_type": "code",
   "execution_count": 14,
   "metadata": {},
   "outputs": [
    {
     "data": {
      "text/plain": [
       "GridSearchCV(cv=10, estimator=LogisticRegression(),\n",
       "             param_grid={'C': [0.01, 0.1, 1], 'penalty': ['l2'],\n",
       "                         'solver': ['lbfgs']})"
      ]
     },
     "execution_count": 14,
     "metadata": {},
     "output_type": "execute_result"
    }
   ],
   "source": [
    "parameters={\"C\":[0.01,0.1,1],\"penalty\":[\"l2\"],'solver':['lbfgs']}\n",
    "lr= LogisticRegression()\n",
    "logreg_cv=GridSearchCV(lr,parameters,cv=10)\n",
    "logreg_cv.fit(X,y)"
   ]
  },
  {
   "cell_type": "code",
   "execution_count": 15,
   "metadata": {},
   "outputs": [
    {
     "name": "stdout",
     "output_type": "stream",
     "text": [
      "tuned hpyerparameters :(best parameters)  {'C': 0.01, 'penalty': 'l2', 'solver': 'lbfgs'}\n",
      "accuracy : 0.7968539325842696\n"
     ]
    }
   ],
   "source": [
    "print(\"tuned hpyerparameters :(best parameters) \",logreg_cv.best_params_)\n",
    "print(\"accuracy :\",logreg_cv.best_score_)"
   ]
  },
  {
   "cell_type": "markdown",
   "metadata": {},
   "source": [
    "# KNN"
   ]
  },
  {
   "cell_type": "code",
   "execution_count": 16,
   "metadata": {},
   "outputs": [],
   "source": [
    "parameters = {'n_neighbors': [1, 2, 3, 4, 5, 6, 7, 8, 9, 10],\n",
    "              'algorithm': ['auto', 'ball_tree', 'kd_tree', 'brute'],\n",
    "              'p': [1,2]}\n",
    "\n",
    "KNN = KNeighborsClassifier()"
   ]
  },
  {
   "cell_type": "code",
   "execution_count": 17,
   "metadata": {},
   "outputs": [
    {
     "data": {
      "text/plain": [
       "GridSearchCV(cv=10, estimator=KNeighborsClassifier(),\n",
       "             param_grid={'algorithm': ['auto', 'ball_tree', 'kd_tree', 'brute'],\n",
       "                         'n_neighbors': [1, 2, 3, 4, 5, 6, 7, 8, 9, 10],\n",
       "                         'p': [1, 2]})"
      ]
     },
     "execution_count": 17,
     "metadata": {},
     "output_type": "execute_result"
    }
   ],
   "source": [
    "\n",
    "knn_cv=GridSearchCV(KNN,parameters,cv=10)\n",
    "knn_cv.fit(X, y)"
   ]
  },
  {
   "cell_type": "code",
   "execution_count": 18,
   "metadata": {},
   "outputs": [
    {
     "name": "stdout",
     "output_type": "stream",
     "text": [
      "tuned hpyerparameters :(best parameters)  {'algorithm': 'auto', 'n_neighbors': 10, 'p': 1}\n",
      "accuracy : 0.8249063670411985\n"
     ]
    }
   ],
   "source": [
    "print(\"tuned hpyerparameters :(best parameters) \",knn_cv.best_params_)\n",
    "print(\"accuracy :\",knn_cv.best_score_)"
   ]
  },
  {
   "cell_type": "markdown",
   "metadata": {},
   "source": [
    "# TREE"
   ]
  },
  {
   "cell_type": "code",
   "execution_count": 19,
   "metadata": {},
   "outputs": [],
   "source": [
    "parameters = {'criterion': ['gini', 'entropy'],\n",
    "     'splitter': ['best', 'random'],\n",
    "     'max_depth': [2*n for n in range(1,10)],\n",
    "     'max_features': ['auto', 'sqrt'],\n",
    "     'min_samples_leaf': [1, 2, 4],\n",
    "     'min_samples_split': [2, 5, 10]}\n",
    "\n",
    "tree = DecisionTreeClassifier()"
   ]
  },
  {
   "cell_type": "code",
   "execution_count": 20,
   "metadata": {},
   "outputs": [
    {
     "data": {
      "text/plain": [
       "GridSearchCV(cv=10, estimator=DecisionTreeClassifier(),\n",
       "             param_grid={'criterion': ['gini', 'entropy'],\n",
       "                         'max_depth': [2, 4, 6, 8, 10, 12, 14, 16, 18],\n",
       "                         'max_features': ['auto', 'sqrt'],\n",
       "                         'min_samples_leaf': [1, 2, 4],\n",
       "                         'min_samples_split': [2, 5, 10],\n",
       "                         'splitter': ['best', 'random']})"
      ]
     },
     "execution_count": 20,
     "metadata": {},
     "output_type": "execute_result"
    }
   ],
   "source": [
    "tree_cv=GridSearchCV(tree,parameters,cv=10)\n",
    "tree_cv.fit(X, y)"
   ]
  },
  {
   "cell_type": "code",
   "execution_count": 21,
   "metadata": {},
   "outputs": [
    {
     "name": "stdout",
     "output_type": "stream",
     "text": [
      "tuned hpyerparameters :(best parameters)  {'criterion': 'entropy', 'max_depth': 8, 'max_features': 'sqrt', 'min_samples_leaf': 4, 'min_samples_split': 2, 'splitter': 'best'}\n",
      "accuracy : 0.8148564294631709\n"
     ]
    }
   ],
   "source": [
    "print(\"tuned hpyerparameters :(best parameters) \",tree_cv.best_params_)\n",
    "print(\"accuracy :\",tree_cv.best_score_)"
   ]
  },
  {
   "cell_type": "markdown",
   "metadata": {},
   "source": [
    "# ANN"
   ]
  },
  {
   "cell_type": "code",
   "execution_count": 22,
   "metadata": {},
   "outputs": [
    {
     "name": "stdout",
     "output_type": "stream",
     "text": [
      "2.6.2\n"
     ]
    }
   ],
   "source": [
    "\n",
    "import tensorflow as tf\n",
    "from tensorflow import keras\n",
    "from tensorflow.keras import layers\n",
    "\n",
    "print(tf.__version__)"
   ]
  },
  {
   "cell_type": "code",
   "execution_count": 23,
   "metadata": {},
   "outputs": [],
   "source": [
    "from keras.models import Sequential\n",
    "from keras.layers import Dense\n",
    "from keras.wrappers.scikit_learn import KerasRegressor\n",
    "from sklearn.model_selection import cross_val_score\n",
    "from sklearn.model_selection import KFold\n",
    "from sklearn.preprocessing import StandardScaler\n",
    "from sklearn.pipeline import Pipeline"
   ]
  },
  {
   "cell_type": "code",
   "execution_count": 54,
   "metadata": {},
   "outputs": [],
   "source": [
    "model = Sequential()\n",
    "model.add(Dense(12, input_dim=8, activation='relu'))\n",
    "model.add(Dense(8, activation='relu'))\n",
    "model.add(Dense(1, activation='sigmoid'))"
   ]
  },
  {
   "cell_type": "code",
   "execution_count": 56,
   "metadata": {},
   "outputs": [
    {
     "name": "stdout",
     "output_type": "stream",
     "text": [
      "Epoch 1/150\n",
      "90/90 [==============================] - 1s 1ms/step - loss: 0.7033 - accuracy: 0.5679\n",
      "Epoch 2/150\n",
      "90/90 [==============================] - 0s 2ms/step - loss: 0.5728 - accuracy: 0.7699\n",
      "Epoch 3/150\n",
      "90/90 [==============================] - 0s 1ms/step - loss: 0.5065 - accuracy: 0.7722\n",
      "Epoch 4/150\n",
      "90/90 [==============================] - 0s 742us/step - loss: 0.4722 - accuracy: 0.7778\n",
      "Epoch 5/150\n",
      "90/90 [==============================] - 0s 1ms/step - loss: 0.4547 - accuracy: 0.7823\n",
      "Epoch 6/150\n",
      "90/90 [==============================] - 0s 768us/step - loss: 0.4454 - accuracy: 0.7834\n",
      "Epoch 7/150\n",
      "90/90 [==============================] - 0s 875us/step - loss: 0.4391 - accuracy: 0.7957\n",
      "Epoch 8/150\n",
      "90/90 [==============================] - 0s 972us/step - loss: 0.4328 - accuracy: 0.7969\n",
      "Epoch 9/150\n",
      "90/90 [==============================] - 0s 993us/step - loss: 0.4286 - accuracy: 0.8002\n",
      "Epoch 10/150\n",
      "90/90 [==============================] - 0s 1ms/step - loss: 0.4249 - accuracy: 0.8036\n",
      "Epoch 11/150\n",
      "90/90 [==============================] - 0s 839us/step - loss: 0.4217 - accuracy: 0.7991\n",
      "Epoch 12/150\n",
      "90/90 [==============================] - 0s 813us/step - loss: 0.4176 - accuracy: 0.8036\n",
      "Epoch 13/150\n",
      "90/90 [==============================] - 0s 783us/step - loss: 0.4163 - accuracy: 0.8070\n",
      "Epoch 14/150\n",
      "90/90 [==============================] - 0s 941us/step - loss: 0.4126 - accuracy: 0.8081\n",
      "Epoch 15/150\n",
      "90/90 [==============================] - 0s 913us/step - loss: 0.4100 - accuracy: 0.8081\n",
      "Epoch 16/150\n",
      "90/90 [==============================] - 0s 1ms/step - loss: 0.4073 - accuracy: 0.8193\n",
      "Epoch 17/150\n",
      "90/90 [==============================] - 0s 1ms/step - loss: 0.4062 - accuracy: 0.8204\n",
      "Epoch 18/150\n",
      "90/90 [==============================] - 0s 794us/step - loss: 0.4036 - accuracy: 0.8249\n",
      "Epoch 19/150\n",
      "90/90 [==============================] - 0s 1ms/step - loss: 0.4015 - accuracy: 0.8204\n",
      "Epoch 20/150\n",
      "90/90 [==============================] - 0s 1ms/step - loss: 0.4001 - accuracy: 0.8193\n",
      "Epoch 21/150\n",
      "90/90 [==============================] - 0s 868us/step - loss: 0.3979 - accuracy: 0.8294\n",
      "Epoch 22/150\n",
      "90/90 [==============================] - 0s 966us/step - loss: 0.3961 - accuracy: 0.8384\n",
      "Epoch 23/150\n",
      "90/90 [==============================] - 0s 977us/step - loss: 0.3942 - accuracy: 0.8294\n",
      "Epoch 24/150\n",
      "90/90 [==============================] - 0s 823us/step - loss: 0.3926 - accuracy: 0.8339\n",
      "Epoch 25/150\n",
      "90/90 [==============================] - 0s 831us/step - loss: 0.3920 - accuracy: 0.8406\n",
      "Epoch 26/150\n",
      "90/90 [==============================] - 0s 914us/step - loss: 0.3897 - accuracy: 0.8418\n",
      "Epoch 27/150\n",
      "90/90 [==============================] - 0s 812us/step - loss: 0.3883 - accuracy: 0.8429\n",
      "Epoch 28/150\n",
      "90/90 [==============================] - 0s 1ms/step - loss: 0.3874 - accuracy: 0.8429\n",
      "Epoch 29/150\n",
      "90/90 [==============================] - 0s 1ms/step - loss: 0.3875 - accuracy: 0.8429\n",
      "Epoch 30/150\n",
      "90/90 [==============================] - 0s 975us/step - loss: 0.3861 - accuracy: 0.8361\n",
      "Epoch 31/150\n",
      "90/90 [==============================] - 0s 1ms/step - loss: 0.3851 - accuracy: 0.8451\n",
      "Epoch 32/150\n",
      "90/90 [==============================] - 0s 1ms/step - loss: 0.3835 - accuracy: 0.8462\n",
      "Epoch 33/150\n",
      "90/90 [==============================] - 0s 849us/step - loss: 0.3837 - accuracy: 0.8429\n",
      "Epoch 34/150\n",
      "90/90 [==============================] - 0s 802us/step - loss: 0.3841 - accuracy: 0.8429\n",
      "Epoch 35/150\n",
      "90/90 [==============================] - 0s 867us/step - loss: 0.3823 - accuracy: 0.8418\n",
      "Epoch 36/150\n",
      "90/90 [==============================] - 0s 1ms/step - loss: 0.3813 - accuracy: 0.8451\n",
      "Epoch 37/150\n",
      "90/90 [==============================] - 0s 854us/step - loss: 0.3811 - accuracy: 0.8418\n",
      "Epoch 38/150\n",
      "90/90 [==============================] - 0s 769us/step - loss: 0.3804 - accuracy: 0.8440\n",
      "Epoch 39/150\n",
      "90/90 [==============================] - 0s 862us/step - loss: 0.3799 - accuracy: 0.8462\n",
      "Epoch 40/150\n",
      "90/90 [==============================] - 0s 740us/step - loss: 0.3801 - accuracy: 0.8373\n",
      "Epoch 41/150\n",
      "90/90 [==============================] - 0s 844us/step - loss: 0.3793 - accuracy: 0.8418\n",
      "Epoch 42/150\n",
      "90/90 [==============================] - 0s 763us/step - loss: 0.3790 - accuracy: 0.8418\n",
      "Epoch 43/150\n",
      "90/90 [==============================] - 0s 856us/step - loss: 0.3781 - accuracy: 0.8462\n",
      "Epoch 44/150\n",
      "90/90 [==============================] - 0s 761us/step - loss: 0.3781 - accuracy: 0.8429\n",
      "Epoch 45/150\n",
      "90/90 [==============================] - 0s 837us/step - loss: 0.3770 - accuracy: 0.8507\n",
      "Epoch 46/150\n",
      "90/90 [==============================] - 0s 783us/step - loss: 0.3763 - accuracy: 0.8440\n",
      "Epoch 47/150\n",
      "90/90 [==============================] - 0s 750us/step - loss: 0.3767 - accuracy: 0.8429\n",
      "Epoch 48/150\n",
      "90/90 [==============================] - 0s 824us/step - loss: 0.3755 - accuracy: 0.8485\n",
      "Epoch 49/150\n",
      "90/90 [==============================] - 0s 812us/step - loss: 0.3749 - accuracy: 0.8474\n",
      "Epoch 50/150\n",
      "90/90 [==============================] - 0s 754us/step - loss: 0.3761 - accuracy: 0.8474\n",
      "Epoch 51/150\n",
      "90/90 [==============================] - 0s 834us/step - loss: 0.3740 - accuracy: 0.8451\n",
      "Epoch 52/150\n",
      "90/90 [==============================] - 0s 838us/step - loss: 0.3734 - accuracy: 0.8440\n",
      "Epoch 53/150\n",
      "90/90 [==============================] - 0s 1ms/step - loss: 0.3735 - accuracy: 0.8462\n",
      "Epoch 54/150\n",
      "90/90 [==============================] - 0s 1ms/step - loss: 0.3722 - accuracy: 0.8418\n",
      "Epoch 55/150\n",
      "90/90 [==============================] - 0s 1ms/step - loss: 0.3741 - accuracy: 0.8507\n",
      "Epoch 56/150\n",
      "90/90 [==============================] - 0s 2ms/step - loss: 0.3721 - accuracy: 0.8462\n",
      "Epoch 57/150\n",
      "90/90 [==============================] - 0s 2ms/step - loss: 0.3712 - accuracy: 0.8395\n",
      "Epoch 58/150\n",
      "90/90 [==============================] - 0s 2ms/step - loss: 0.3710 - accuracy: 0.8462\n",
      "Epoch 59/150\n",
      "90/90 [==============================] - 0s 1ms/step - loss: 0.3707 - accuracy: 0.8496\n",
      "Epoch 60/150\n",
      "90/90 [==============================] - 0s 1ms/step - loss: 0.3701 - accuracy: 0.8519\n",
      "Epoch 61/150\n",
      "90/90 [==============================] - 0s 1ms/step - loss: 0.3691 - accuracy: 0.8519\n",
      "Epoch 62/150\n",
      "90/90 [==============================] - 0s 1ms/step - loss: 0.3695 - accuracy: 0.8507\n",
      "Epoch 63/150\n",
      "90/90 [==============================] - 0s 1ms/step - loss: 0.3688 - accuracy: 0.8519\n",
      "Epoch 64/150\n",
      "90/90 [==============================] - 0s 1ms/step - loss: 0.3680 - accuracy: 0.8507\n",
      "Epoch 65/150\n",
      "90/90 [==============================] - 0s 1ms/step - loss: 0.3674 - accuracy: 0.8485\n",
      "Epoch 66/150\n",
      "90/90 [==============================] - 0s 985us/step - loss: 0.3671 - accuracy: 0.8519\n",
      "Epoch 67/150\n",
      "90/90 [==============================] - 0s 1ms/step - loss: 0.3670 - accuracy: 0.8440\n",
      "Epoch 68/150\n",
      "90/90 [==============================] - 0s 1ms/step - loss: 0.3668 - accuracy: 0.8496\n",
      "Epoch 69/150\n",
      "90/90 [==============================] - 0s 1ms/step - loss: 0.3668 - accuracy: 0.8507\n",
      "Epoch 70/150\n",
      "90/90 [==============================] - 0s 1ms/step - loss: 0.3658 - accuracy: 0.8462\n",
      "Epoch 71/150\n",
      "90/90 [==============================] - 0s 834us/step - loss: 0.3654 - accuracy: 0.8496\n",
      "Epoch 72/150\n",
      "90/90 [==============================] - 0s 1ms/step - loss: 0.3656 - accuracy: 0.8530\n",
      "Epoch 73/150\n",
      "90/90 [==============================] - 0s 986us/step - loss: 0.3653 - accuracy: 0.8451\n",
      "Epoch 74/150\n",
      "90/90 [==============================] - 0s 1ms/step - loss: 0.3670 - accuracy: 0.8496\n",
      "Epoch 75/150\n",
      "90/90 [==============================] - 0s 1ms/step - loss: 0.3649 - accuracy: 0.8507\n",
      "Epoch 76/150\n",
      "90/90 [==============================] - 0s 994us/step - loss: 0.3646 - accuracy: 0.8496\n",
      "Epoch 77/150\n",
      "90/90 [==============================] - 0s 810us/step - loss: 0.3652 - accuracy: 0.8485\n",
      "Epoch 78/150\n",
      "90/90 [==============================] - 0s 1ms/step - loss: 0.3640 - accuracy: 0.8462\n",
      "Epoch 79/150\n",
      "90/90 [==============================] - 0s 776us/step - loss: 0.3630 - accuracy: 0.8462\n",
      "Epoch 80/150\n",
      "90/90 [==============================] - 0s 765us/step - loss: 0.3633 - accuracy: 0.8519\n",
      "Epoch 81/150\n",
      "90/90 [==============================] - 0s 788us/step - loss: 0.3621 - accuracy: 0.8519\n",
      "Epoch 82/150\n",
      "90/90 [==============================] - 0s 839us/step - loss: 0.3620 - accuracy: 0.8530\n",
      "Epoch 83/150\n",
      "90/90 [==============================] - 0s 733us/step - loss: 0.3611 - accuracy: 0.8519\n",
      "Epoch 84/150\n",
      "90/90 [==============================] - 0s 810us/step - loss: 0.3608 - accuracy: 0.8519\n",
      "Epoch 85/150\n",
      "90/90 [==============================] - 0s 785us/step - loss: 0.3601 - accuracy: 0.8474\n",
      "Epoch 86/150\n",
      "90/90 [==============================] - 0s 773us/step - loss: 0.3604 - accuracy: 0.8530\n",
      "Epoch 87/150\n",
      "90/90 [==============================] - 0s 755us/step - loss: 0.3611 - accuracy: 0.8462\n",
      "Epoch 88/150\n",
      "90/90 [==============================] - 0s 816us/step - loss: 0.3590 - accuracy: 0.8519\n",
      "Epoch 89/150\n",
      "90/90 [==============================] - 0s 773us/step - loss: 0.3610 - accuracy: 0.8530\n",
      "Epoch 90/150\n",
      "90/90 [==============================] - 0s 789us/step - loss: 0.3594 - accuracy: 0.8507\n",
      "Epoch 91/150\n",
      "90/90 [==============================] - 0s 868us/step - loss: 0.3581 - accuracy: 0.8563\n",
      "Epoch 92/150\n",
      "90/90 [==============================] - 0s 764us/step - loss: 0.3575 - accuracy: 0.8519\n",
      "Epoch 93/150\n",
      "90/90 [==============================] - 0s 803us/step - loss: 0.3578 - accuracy: 0.8552\n",
      "Epoch 94/150\n",
      "90/90 [==============================] - 0s 783us/step - loss: 0.3581 - accuracy: 0.8496\n",
      "Epoch 95/150\n",
      "90/90 [==============================] - 0s 762us/step - loss: 0.3582 - accuracy: 0.8530\n",
      "Epoch 96/150\n",
      "90/90 [==============================] - 0s 805us/step - loss: 0.3565 - accuracy: 0.8485\n",
      "Epoch 97/150\n",
      "90/90 [==============================] - 0s 763us/step - loss: 0.3567 - accuracy: 0.8541\n",
      "Epoch 98/150\n",
      "90/90 [==============================] - 0s 892us/step - loss: 0.3561 - accuracy: 0.8530\n",
      "Epoch 99/150\n",
      "90/90 [==============================] - 0s 753us/step - loss: 0.3559 - accuracy: 0.8541\n",
      "Epoch 100/150\n",
      "90/90 [==============================] - 0s 773us/step - loss: 0.3567 - accuracy: 0.8474\n",
      "Epoch 101/150\n",
      "90/90 [==============================] - 0s 813us/step - loss: 0.3559 - accuracy: 0.8507\n",
      "Epoch 102/150\n",
      "90/90 [==============================] - 0s 763us/step - loss: 0.3550 - accuracy: 0.8496\n",
      "Epoch 103/150\n",
      "90/90 [==============================] - 0s 795us/step - loss: 0.3552 - accuracy: 0.8541\n",
      "Epoch 104/150\n",
      "90/90 [==============================] - 0s 801us/step - loss: 0.3544 - accuracy: 0.8507\n",
      "Epoch 105/150\n",
      "90/90 [==============================] - 0s 833us/step - loss: 0.3548 - accuracy: 0.8496\n",
      "Epoch 106/150\n",
      "90/90 [==============================] - 0s 1000us/step - loss: 0.3534 - accuracy: 0.8552\n",
      "Epoch 107/150\n",
      "90/90 [==============================] - 0s 744us/step - loss: 0.3526 - accuracy: 0.8541\n",
      "Epoch 108/150\n",
      "90/90 [==============================] - 0s 822us/step - loss: 0.3527 - accuracy: 0.8530\n",
      "Epoch 109/150\n",
      "90/90 [==============================] - 0s 774us/step - loss: 0.3530 - accuracy: 0.8563\n",
      "Epoch 110/150\n",
      "90/90 [==============================] - 0s 817us/step - loss: 0.3519 - accuracy: 0.8541\n",
      "Epoch 111/150\n",
      "90/90 [==============================] - 0s 790us/step - loss: 0.3521 - accuracy: 0.8541\n",
      "Epoch 112/150\n",
      "90/90 [==============================] - 0s 762us/step - loss: 0.3516 - accuracy: 0.8485\n",
      "Epoch 113/150\n",
      "90/90 [==============================] - 0s 787us/step - loss: 0.3517 - accuracy: 0.8519\n",
      "Epoch 114/150\n",
      "90/90 [==============================] - 0s 782us/step - loss: 0.3506 - accuracy: 0.8541\n",
      "Epoch 115/150\n",
      "90/90 [==============================] - 0s 792us/step - loss: 0.3512 - accuracy: 0.8507\n",
      "Epoch 116/150\n",
      "90/90 [==============================] - 0s 772us/step - loss: 0.3507 - accuracy: 0.8485\n",
      "Epoch 117/150\n",
      "90/90 [==============================] - 0s 813us/step - loss: 0.3490 - accuracy: 0.8530\n",
      "Epoch 118/150\n",
      "90/90 [==============================] - 0s 862us/step - loss: 0.3490 - accuracy: 0.8519\n",
      "Epoch 119/150\n",
      "90/90 [==============================] - 0s 720us/step - loss: 0.3524 - accuracy: 0.8485\n",
      "Epoch 120/150\n",
      "90/90 [==============================] - 0s 878us/step - loss: 0.3494 - accuracy: 0.8541\n",
      "Epoch 121/150\n",
      "90/90 [==============================] - 0s 886us/step - loss: 0.3485 - accuracy: 0.8496\n",
      "Epoch 122/150\n",
      "90/90 [==============================] - 0s 910us/step - loss: 0.3489 - accuracy: 0.8541\n",
      "Epoch 123/150\n",
      "90/90 [==============================] - 0s 804us/step - loss: 0.3471 - accuracy: 0.8552\n",
      "Epoch 124/150\n",
      "90/90 [==============================] - 0s 872us/step - loss: 0.3499 - accuracy: 0.8519\n",
      "Epoch 125/150\n",
      "90/90 [==============================] - 0s 778us/step - loss: 0.3474 - accuracy: 0.8496\n",
      "Epoch 126/150\n",
      "90/90 [==============================] - 0s 747us/step - loss: 0.3488 - accuracy: 0.8530\n",
      "Epoch 127/150\n",
      "90/90 [==============================] - 0s 773us/step - loss: 0.3481 - accuracy: 0.8496\n",
      "Epoch 128/150\n",
      "90/90 [==============================] - 0s 881us/step - loss: 0.3466 - accuracy: 0.8541\n",
      "Epoch 129/150\n",
      "90/90 [==============================] - 0s 774us/step - loss: 0.3471 - accuracy: 0.8530\n",
      "Epoch 130/150\n",
      "90/90 [==============================] - 0s 832us/step - loss: 0.3540 - accuracy: 0.8474\n",
      "Epoch 131/150\n",
      "90/90 [==============================] - 0s 807us/step - loss: 0.3473 - accuracy: 0.8530\n",
      "Epoch 132/150\n",
      "90/90 [==============================] - 0s 798us/step - loss: 0.3465 - accuracy: 0.8507\n",
      "Epoch 133/150\n",
      "90/90 [==============================] - 0s 798us/step - loss: 0.3457 - accuracy: 0.8530\n",
      "Epoch 134/150\n",
      "90/90 [==============================] - 0s 784us/step - loss: 0.3450 - accuracy: 0.8563\n",
      "Epoch 135/150\n",
      "90/90 [==============================] - 0s 1ms/step - loss: 0.3461 - accuracy: 0.8541\n",
      "Epoch 136/150\n",
      "90/90 [==============================] - 0s 801us/step - loss: 0.3449 - accuracy: 0.8507\n",
      "Epoch 137/150\n",
      "90/90 [==============================] - 0s 770us/step - loss: 0.3446 - accuracy: 0.8530\n",
      "Epoch 138/150\n",
      "90/90 [==============================] - 0s 868us/step - loss: 0.3444 - accuracy: 0.8507\n",
      "Epoch 139/150\n",
      "90/90 [==============================] - 0s 723us/step - loss: 0.3443 - accuracy: 0.8519\n",
      "Epoch 140/150\n",
      "90/90 [==============================] - 0s 776us/step - loss: 0.3444 - accuracy: 0.8575\n",
      "Epoch 141/150\n",
      "90/90 [==============================] - 0s 877us/step - loss: 0.3459 - accuracy: 0.8541\n",
      "Epoch 142/150\n",
      "90/90 [==============================] - 0s 759us/step - loss: 0.3429 - accuracy: 0.8507\n",
      "Epoch 143/150\n",
      "90/90 [==============================] - 0s 821us/step - loss: 0.3416 - accuracy: 0.8496\n",
      "Epoch 144/150\n",
      "90/90 [==============================] - 0s 835us/step - loss: 0.3427 - accuracy: 0.8552\n",
      "Epoch 145/150\n",
      "90/90 [==============================] - 0s 773us/step - loss: 0.3413 - accuracy: 0.8519\n",
      "Epoch 146/150\n",
      "90/90 [==============================] - 0s 759us/step - loss: 0.3421 - accuracy: 0.8507\n",
      "Epoch 147/150\n",
      "90/90 [==============================] - 0s 746us/step - loss: 0.3411 - accuracy: 0.8541\n",
      "Epoch 148/150\n",
      "90/90 [==============================] - 0s 827us/step - loss: 0.3405 - accuracy: 0.8519\n",
      "Epoch 149/150\n",
      "90/90 [==============================] - 0s 767us/step - loss: 0.3400 - accuracy: 0.8530\n",
      "Epoch 150/150\n",
      "90/90 [==============================] - 0s 768us/step - loss: 0.3396 - accuracy: 0.8552\n"
     ]
    },
    {
     "data": {
      "text/plain": [
       "<keras.callbacks.History at 0x7f7ed7685c50>"
      ]
     },
     "execution_count": 56,
     "metadata": {},
     "output_type": "execute_result"
    }
   ],
   "source": [
    "model.compile(loss='binary_crossentropy', optimizer='adam', metrics=['accuracy'])\n",
    "model.fit(X, y, epochs=150, batch_size=10)"
   ]
  },
  {
   "cell_type": "code",
   "execution_count": 58,
   "metadata": {},
   "outputs": [
    {
     "name": "stdout",
     "output_type": "stream",
     "text": [
      "28/28 [==============================] - 0s 969us/step - loss: 0.3364 - accuracy: 0.8563\n",
      "Accuracy: 85.63\n"
     ]
    }
   ],
   "source": [
    "# evaluate the keras model\n",
    "_, accuracy = model.evaluate(X, y)\n",
    "print('Accuracy: %.2f' % (accuracy*100))"
   ]
  },
  {
   "cell_type": "code",
   "execution_count": 71,
   "metadata": {},
   "outputs": [],
   "source": [
    "ann_results= model.predict(X_test)\n",
    "ann_results[ann_results<0.5] = 0\n",
    "ann_results[ann_results>=0.5] = 1\n",
    "yhat=ann_results.astype(\"int\")\n"
   ]
  },
  {
   "cell_type": "markdown",
   "metadata": {},
   "source": [
    "## Submitting CSV"
   ]
  },
  {
   "cell_type": "code",
   "execution_count": 72,
   "metadata": {},
   "outputs": [
    {
     "data": {
      "text/plain": [
       "0       892\n",
       "1       893\n",
       "2       894\n",
       "3       895\n",
       "4       896\n",
       "       ... \n",
       "413    1305\n",
       "414    1306\n",
       "415    1307\n",
       "416    1308\n",
       "417    1309\n",
       "Name: PassengerId, Length: 418, dtype: int64"
      ]
     },
     "execution_count": 72,
     "metadata": {},
     "output_type": "execute_result"
    }
   ],
   "source": [
    "test_data[\"PassengerId\"]"
   ]
  },
  {
   "cell_type": "code",
   "execution_count": 26,
   "metadata": {},
   "outputs": [
    {
     "data": {
      "text/plain": [
       "418"
      ]
     },
     "execution_count": 26,
     "metadata": {},
     "output_type": "execute_result"
    }
   ],
   "source": [
    "yhat.size\n"
   ]
  },
  {
   "cell_type": "code",
   "execution_count": 73,
   "metadata": {},
   "outputs": [
    {
     "data": {
      "text/html": [
       "<div>\n",
       "<style scoped>\n",
       "    .dataframe tbody tr th:only-of-type {\n",
       "        vertical-align: middle;\n",
       "    }\n",
       "\n",
       "    .dataframe tbody tr th {\n",
       "        vertical-align: top;\n",
       "    }\n",
       "\n",
       "    .dataframe thead th {\n",
       "        text-align: right;\n",
       "    }\n",
       "</style>\n",
       "<table border=\"1\" class=\"dataframe\">\n",
       "  <thead>\n",
       "    <tr style=\"text-align: right;\">\n",
       "      <th></th>\n",
       "      <th>PassengerId</th>\n",
       "    </tr>\n",
       "  </thead>\n",
       "  <tbody>\n",
       "    <tr>\n",
       "      <th>0</th>\n",
       "      <td>892</td>\n",
       "    </tr>\n",
       "    <tr>\n",
       "      <th>1</th>\n",
       "      <td>893</td>\n",
       "    </tr>\n",
       "    <tr>\n",
       "      <th>2</th>\n",
       "      <td>894</td>\n",
       "    </tr>\n",
       "    <tr>\n",
       "      <th>3</th>\n",
       "      <td>895</td>\n",
       "    </tr>\n",
       "    <tr>\n",
       "      <th>4</th>\n",
       "      <td>896</td>\n",
       "    </tr>\n",
       "    <tr>\n",
       "      <th>...</th>\n",
       "      <td>...</td>\n",
       "    </tr>\n",
       "    <tr>\n",
       "      <th>413</th>\n",
       "      <td>1305</td>\n",
       "    </tr>\n",
       "    <tr>\n",
       "      <th>414</th>\n",
       "      <td>1306</td>\n",
       "    </tr>\n",
       "    <tr>\n",
       "      <th>415</th>\n",
       "      <td>1307</td>\n",
       "    </tr>\n",
       "    <tr>\n",
       "      <th>416</th>\n",
       "      <td>1308</td>\n",
       "    </tr>\n",
       "    <tr>\n",
       "      <th>417</th>\n",
       "      <td>1309</td>\n",
       "    </tr>\n",
       "  </tbody>\n",
       "</table>\n",
       "<p>418 rows × 1 columns</p>\n",
       "</div>"
      ],
      "text/plain": [
       "     PassengerId\n",
       "0            892\n",
       "1            893\n",
       "2            894\n",
       "3            895\n",
       "4            896\n",
       "..           ...\n",
       "413         1305\n",
       "414         1306\n",
       "415         1307\n",
       "416         1308\n",
       "417         1309\n",
       "\n",
       "[418 rows x 1 columns]"
      ]
     },
     "execution_count": 73,
     "metadata": {},
     "output_type": "execute_result"
    }
   ],
   "source": [
    "\n",
    "result= pd.DataFrame(test_data[\"PassengerId\"].values,columns=[\"PassengerId\"])\n",
    "result\n"
   ]
  },
  {
   "cell_type": "code",
   "execution_count": 74,
   "metadata": {},
   "outputs": [
    {
     "data": {
      "text/html": [
       "<div>\n",
       "<style scoped>\n",
       "    .dataframe tbody tr th:only-of-type {\n",
       "        vertical-align: middle;\n",
       "    }\n",
       "\n",
       "    .dataframe tbody tr th {\n",
       "        vertical-align: top;\n",
       "    }\n",
       "\n",
       "    .dataframe thead th {\n",
       "        text-align: right;\n",
       "    }\n",
       "</style>\n",
       "<table border=\"1\" class=\"dataframe\">\n",
       "  <thead>\n",
       "    <tr style=\"text-align: right;\">\n",
       "      <th></th>\n",
       "      <th>PassengerId</th>\n",
       "      <th>Survived</th>\n",
       "    </tr>\n",
       "  </thead>\n",
       "  <tbody>\n",
       "    <tr>\n",
       "      <th>0</th>\n",
       "      <td>892</td>\n",
       "      <td>0</td>\n",
       "    </tr>\n",
       "    <tr>\n",
       "      <th>1</th>\n",
       "      <td>893</td>\n",
       "      <td>0</td>\n",
       "    </tr>\n",
       "    <tr>\n",
       "      <th>2</th>\n",
       "      <td>894</td>\n",
       "      <td>0</td>\n",
       "    </tr>\n",
       "    <tr>\n",
       "      <th>3</th>\n",
       "      <td>895</td>\n",
       "      <td>0</td>\n",
       "    </tr>\n",
       "    <tr>\n",
       "      <th>4</th>\n",
       "      <td>896</td>\n",
       "      <td>0</td>\n",
       "    </tr>\n",
       "    <tr>\n",
       "      <th>...</th>\n",
       "      <td>...</td>\n",
       "      <td>...</td>\n",
       "    </tr>\n",
       "    <tr>\n",
       "      <th>413</th>\n",
       "      <td>1305</td>\n",
       "      <td>0</td>\n",
       "    </tr>\n",
       "    <tr>\n",
       "      <th>414</th>\n",
       "      <td>1306</td>\n",
       "      <td>1</td>\n",
       "    </tr>\n",
       "    <tr>\n",
       "      <th>415</th>\n",
       "      <td>1307</td>\n",
       "      <td>0</td>\n",
       "    </tr>\n",
       "    <tr>\n",
       "      <th>416</th>\n",
       "      <td>1308</td>\n",
       "      <td>0</td>\n",
       "    </tr>\n",
       "    <tr>\n",
       "      <th>417</th>\n",
       "      <td>1309</td>\n",
       "      <td>0</td>\n",
       "    </tr>\n",
       "  </tbody>\n",
       "</table>\n",
       "<p>418 rows × 2 columns</p>\n",
       "</div>"
      ],
      "text/plain": [
       "     PassengerId  Survived\n",
       "0            892         0\n",
       "1            893         0\n",
       "2            894         0\n",
       "3            895         0\n",
       "4            896         0\n",
       "..           ...       ...\n",
       "413         1305         0\n",
       "414         1306         1\n",
       "415         1307         0\n",
       "416         1308         0\n",
       "417         1309         0\n",
       "\n",
       "[418 rows x 2 columns]"
      ]
     },
     "execution_count": 74,
     "metadata": {},
     "output_type": "execute_result"
    }
   ],
   "source": [
    "result.insert(1,\"Survived\",yhat)\n",
    "result\n"
   ]
  },
  {
   "cell_type": "code",
   "execution_count": 75,
   "metadata": {},
   "outputs": [],
   "source": [
    "result.to_csv('result.csv', index=False)"
   ]
  }
 ],
 "metadata": {
  "interpreter": {
   "hash": "78d7850bc6c10cef35280cfa0f829f85c1c75e59642fd25ca7313af013a788b7"
  },
  "kernelspec": {
   "display_name": "Python 3.6.10 ('base')",
   "language": "python",
   "name": "python3"
  },
  "language_info": {
   "codemirror_mode": {
    "name": "ipython",
    "version": 3
   },
   "file_extension": ".py",
   "mimetype": "text/x-python",
   "name": "python",
   "nbconvert_exporter": "python",
   "pygments_lexer": "ipython3",
   "version": "3.6.10"
  },
  "orig_nbformat": 4
 },
 "nbformat": 4,
 "nbformat_minor": 2
}
